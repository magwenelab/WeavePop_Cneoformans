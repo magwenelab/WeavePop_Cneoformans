{
 "cells": [
  {
   "cell_type": "markdown",
   "metadata": {},
   "source": [
    "# Homogenize metadata of joined datasets"
   ]
  },
  {
   "cell_type": "code",
   "execution_count": 1,
   "metadata": {},
   "outputs": [],
   "source": [
    "import pandas as pd\n",
    "import os\n",
    "import numpy as np\n",
    "from Bio import Phylo\n",
    "\n",
    "os.chdir(\"/FastData/czirion/WeavePop_Cneoformans/\")"
   ]
  },
  {
   "cell_type": "markdown",
   "metadata": {},
   "source": [
    "Input"
   ]
  },
  {
   "cell_type": "code",
   "execution_count": 2,
   "metadata": {},
   "outputs": [],
   "source": [
    "metadata_ashton_path = \"Crypto_Ashton/config/metadata_all_ashton_and_vni_desj.csv\"\n",
    "metadata_desjardins_path = \"Crypto_Desjardins/config/metadata.csv\"\n",
    "\n",
    "ploidy = \"analyses/results/tables/ploidy.tsv\"\n",
    "ashton_mapping_stats_path = \"Crypto_Ashton/results/02.Dataset/depth_quality/mapping_stats.tsv\""
   ]
  },
  {
   "cell_type": "markdown",
   "metadata": {},
   "source": [
    "Output"
   ]
  },
  {
   "cell_type": "code",
   "execution_count": 3,
   "metadata": {},
   "outputs": [],
   "source": [
    "metadata_path =  \"analyses/data/processed/metadata_all_H99_complete.csv\"\n",
    "metadata_final_path = \"analyses/data/processed/metadata_ashton_desj_all_weavepop_final_H99.csv\"\n",
    "metadata_vni_path = \"analyses/data/processed/metadata_ashton_desj_vni_weavepop_final_H99.csv\""
   ]
  },
  {
   "cell_type": "markdown",
   "metadata": {},
   "source": [
    "Get original metadata of all samples in Ashton paper and Desjardins samples."
   ]
  },
  {
   "cell_type": "code",
   "execution_count": 4,
   "metadata": {},
   "outputs": [],
   "source": [
    "metadata_ashton = pd.read_csv(metadata_ashton_path, header=0)\n",
    "metadata_desjardins = pd.read_csv(metadata_desjardins_path, header=0)"
   ]
  },
  {
   "cell_type": "markdown",
   "metadata": {},
   "source": [
    "### Join both tables\n",
    "Keeping the run label and VNI sublineage infromation from the Ashton metadata."
   ]
  },
  {
   "cell_type": "markdown",
   "metadata": {},
   "source": [
    "Create run column to maintain run accession of samples in the Ashton tree, which are the values used as tip labels for the Desjardins samples.  \n",
    "Create dataset column in both tables.  \n",
    "Remove VNI subdivision column from Desjardins table."
   ]
  },
  {
   "cell_type": "code",
   "execution_count": 5,
   "metadata": {},
   "outputs": [],
   "source": [
    "metadata_ashton = metadata_ashton.rename(columns={\"study\": \"dataset\"})\n",
    "metadata_ashton['run'] = metadata_ashton['sra_accession']\n",
    "metadata_desjardins['dataset'] = 'Desjardins'\n",
    "metadata_desjardins.drop(columns=['vni_subdivision'], inplace=True)"
   ]
  },
  {
   "cell_type": "markdown",
   "metadata": {},
   "source": [
    "Make an outer join using all the common columns.   "
   ]
  },
  {
   "cell_type": "code",
   "execution_count": 6,
   "metadata": {},
   "outputs": [],
   "source": [
    "common_columns = ['sample', 'lineage', 'source', 'country_of_origin','dataset']\n",
    "metadata = pd.merge(metadata_ashton, metadata_desjardins, how='outer', on= common_columns, suffixes=('_ashton', '_desjardins'))"
   ]
  },
  {
   "cell_type": "markdown",
   "metadata": {},
   "source": [
    "Keep the strain names from the corresponging table (because the Ashton table has sra accession as strain names in the Desjardins samples).  \n",
    "Keep the sra accession from the corresponding table."
   ]
  },
  {
   "cell_type": "code",
   "execution_count": 7,
   "metadata": {},
   "outputs": [],
   "source": [
    "metadata.loc[metadata[\"dataset\"] == \"Desjardins\", \"strain\"] = metadata[\"strain_desjardins\"]\n",
    "metadata.loc[metadata[\"dataset\"] == \"Ashton\", \"strain\"] = metadata[\"strain_ashton\"]\n",
    "metadata.loc[metadata[\"dataset\"] == \"Desjardins\", \"sra_accession\"] = metadata[\"sra_accession_desjardins\"]\n",
    "metadata.loc[metadata[\"dataset\"] == \"Ashton\", \"sra_accession\"] = metadata[\"sra_accession_ashton\"]\n",
    "metadata.drop(columns=['strain_ashton', 'strain_desjardins', 'sra_accession_ashton', 'sra_accession_desjardins'], inplace=True)"
   ]
  },
  {
   "cell_type": "markdown",
   "metadata": {},
   "source": [
    "### Add the continent information to the Desjardins samples"
   ]
  },
  {
   "cell_type": "markdown",
   "metadata": {},
   "source": [
    "Fill the continent column in the samples (Desjardins) that don't have it.  \n",
    "Make a dataframe with the unique combinations of country and continent.   \n",
    "Make a dataframe of the countries that do have contient information.  "
   ]
  },
  {
   "cell_type": "code",
   "execution_count": 8,
   "metadata": {},
   "outputs": [],
   "source": [
    "country_continent = metadata[['country_of_origin', 'continent_of_origin']].drop_duplicates().sort_values(by='country_of_origin')\n",
    "countries = country_continent.dropna()"
   ]
  },
  {
   "cell_type": "markdown",
   "metadata": {},
   "source": [
    "Make sure all countries have a continent assigned."
   ]
  },
  {
   "cell_type": "code",
   "execution_count": 9,
   "metadata": {},
   "outputs": [
    {
     "data": {
      "text/plain": [
       "array([ True,  True,  True,  True,  True,  True,  True,  True,  True,\n",
       "        True,  True,  True,  True,  True,  True,  True,  True,  True])"
      ]
     },
     "execution_count": 9,
     "metadata": {},
     "output_type": "execute_result"
    }
   ],
   "source": [
    "country_continent['country_of_origin'].unique() == countries['country_of_origin'].unique()"
   ]
  },
  {
   "cell_type": "markdown",
   "metadata": {},
   "source": [
    "Add the continent column to the metadata of the samples."
   ]
  },
  {
   "cell_type": "code",
   "execution_count": 10,
   "metadata": {},
   "outputs": [],
   "source": [
    "metadata = metadata.drop(columns=['continent_of_origin'])\n",
    "metadata = metadata.merge(countries, on='country_of_origin', how='left')"
   ]
  },
  {
   "cell_type": "markdown",
   "metadata": {},
   "source": [
    "Reorder columns"
   ]
  },
  {
   "cell_type": "code",
   "execution_count": 11,
   "metadata": {},
   "outputs": [],
   "source": [
    "first_cols = ['sample', 'strain', 'run', 'lineage', 'vni_subdivision', 'vnia_subdivision', 'dataset', 'source', 'country_of_origin', 'continent_of_origin']\n",
    "metadata = metadata[first_cols + [col for col in metadata.columns if col not in first_cols]]"
   ]
  },
  {
   "cell_type": "markdown",
   "metadata": {},
   "source": [
    "### Add information about excluded samples"
   ]
  },
  {
   "cell_type": "markdown",
   "metadata": {},
   "source": [
    "Add information about putative ploidy of some samples"
   ]
  },
  {
   "cell_type": "code",
   "execution_count": 12,
   "metadata": {},
   "outputs": [],
   "source": [
    "ploidy_df = pd.read_csv(ploidy, sep=\"\\t\", header=0)\n",
    "metadata = metadata.merge(ploidy_df, on='sample', how='left')"
   ]
  },
  {
   "cell_type": "markdown",
   "metadata": {},
   "source": [
    "Add information about bad quality samples"
   ]
  },
  {
   "cell_type": "code",
   "execution_count": 13,
   "metadata": {},
   "outputs": [],
   "source": [
    "quality_df = pd.read_csv(ashton_mapping_stats_path, sep=\"\\t\", header=0)\n",
    "quality_df = quality_df[['sample', 'quality_warning']]\n",
    "quality_df = quality_df.loc[quality_df['quality_warning'].notna()]\n",
    "metadata = metadata.merge(quality_df, on='sample', how='left')"
   ]
  },
  {
   "cell_type": "markdown",
   "metadata": {},
   "source": [
    "Make column with the reason for exclusion from the dataset of some samples."
   ]
  },
  {
   "cell_type": "code",
   "execution_count": 14,
   "metadata": {},
   "outputs": [],
   "source": [
    "metadata['excluded'] = metadata.apply(\n",
    "    lambda row: row['ploidy'] if pd.notna(row['ploidy']) else \n",
    "                row['quality_warning'] if pd.notna(row['quality_warning']) else \n",
    "                row['lineage'] if (row['dataset'] == 'Ashton' and row['lineage'] != 'VNI') else \n",
    "                'missing' if row['run'] == 'ERR2624135' else\n",
    "                np.nan,\n",
    "    axis=1)"
   ]
  },
  {
   "cell_type": "markdown",
   "metadata": {},
   "source": [
    "### Add metadata of"
   ]
  },
  {
   "cell_type": "markdown",
   "metadata": {},
   "source": [
    "Add H99 GCF_000149245"
   ]
  },
  {
   "cell_type": "code",
   "execution_count": 15,
   "metadata": {},
   "outputs": [],
   "source": [
    "H99 = {'sample': 'GCF_000149245', 'run': 'GCF_000149245', 'strain': 'H99', 'lineage': 'VNI', 'vni_subdivision': 'VNIb', 'dataset': 'Reference', 'source': 'Clinical', 'mating_type': 'α', 'country_of_origin': 'USA', 'continent_of_origin': 'North America'}"
   ]
  },
  {
   "cell_type": "code",
   "execution_count": 16,
   "metadata": {},
   "outputs": [],
   "source": [
    "metadata = pd.concat([metadata, pd.DataFrame([H99])], ignore_index=True)\n"
   ]
  },
  {
   "cell_type": "markdown",
   "metadata": {},
   "source": [
    "## Save metadata table of multiple subsets "
   ]
  },
  {
   "cell_type": "markdown",
   "metadata": {},
   "source": [
    "### All"
   ]
  },
  {
   "cell_type": "code",
   "execution_count": 17,
   "metadata": {},
   "outputs": [
    {
     "data": {
      "text/plain": [
       "1087"
      ]
     },
     "execution_count": 17,
     "metadata": {},
     "output_type": "execute_result"
    }
   ],
   "source": [
    "len(metadata)"
   ]
  },
  {
   "cell_type": "code",
   "execution_count": 18,
   "metadata": {},
   "outputs": [
    {
     "data": {
      "application/vnd.microsoft.datawrangler.viewer.v0+json": {
       "columns": [
        {
         "name": "index",
         "rawType": "int64",
         "type": "integer"
        },
        {
         "name": "dataset",
         "rawType": "object",
         "type": "string"
        },
        {
         "name": "lineage",
         "rawType": "object",
         "type": "string"
        },
        {
         "name": "counts",
         "rawType": "int64",
         "type": "integer"
        }
       ],
       "ref": "718bc6f8-e58e-43f5-b42f-09efc7d82b82",
       "rows": [
        [
         "0",
         "Ashton",
         "AD_hybrid",
         "5"
        ],
        [
         "1",
         "Ashton",
         "VNI",
         "678"
        ],
        [
         "2",
         "Ashton",
         "VNII",
         "4"
        ],
        [
         "3",
         "Ashton",
         "gattii",
         "12"
        ],
        [
         "4",
         "Desjardins",
         "VNBI",
         "122"
        ],
        [
         "5",
         "Desjardins",
         "VNBII",
         "64"
        ],
        [
         "6",
         "Desjardins",
         "VNI",
         "185"
        ],
        [
         "7",
         "Desjardins",
         "VNII",
         "16"
        ],
        [
         "8",
         "Reference",
         "VNI",
         "1"
        ]
       ],
       "shape": {
        "columns": 3,
        "rows": 9
       }
      },
      "text/html": [
       "<div>\n",
       "<style scoped>\n",
       "    .dataframe tbody tr th:only-of-type {\n",
       "        vertical-align: middle;\n",
       "    }\n",
       "\n",
       "    .dataframe tbody tr th {\n",
       "        vertical-align: top;\n",
       "    }\n",
       "\n",
       "    .dataframe thead th {\n",
       "        text-align: right;\n",
       "    }\n",
       "</style>\n",
       "<table border=\"1\" class=\"dataframe\">\n",
       "  <thead>\n",
       "    <tr style=\"text-align: right;\">\n",
       "      <th></th>\n",
       "      <th>dataset</th>\n",
       "      <th>lineage</th>\n",
       "      <th>counts</th>\n",
       "    </tr>\n",
       "  </thead>\n",
       "  <tbody>\n",
       "    <tr>\n",
       "      <th>0</th>\n",
       "      <td>Ashton</td>\n",
       "      <td>AD_hybrid</td>\n",
       "      <td>5</td>\n",
       "    </tr>\n",
       "    <tr>\n",
       "      <th>1</th>\n",
       "      <td>Ashton</td>\n",
       "      <td>VNI</td>\n",
       "      <td>678</td>\n",
       "    </tr>\n",
       "    <tr>\n",
       "      <th>2</th>\n",
       "      <td>Ashton</td>\n",
       "      <td>VNII</td>\n",
       "      <td>4</td>\n",
       "    </tr>\n",
       "    <tr>\n",
       "      <th>3</th>\n",
       "      <td>Ashton</td>\n",
       "      <td>gattii</td>\n",
       "      <td>12</td>\n",
       "    </tr>\n",
       "    <tr>\n",
       "      <th>4</th>\n",
       "      <td>Desjardins</td>\n",
       "      <td>VNBI</td>\n",
       "      <td>122</td>\n",
       "    </tr>\n",
       "    <tr>\n",
       "      <th>5</th>\n",
       "      <td>Desjardins</td>\n",
       "      <td>VNBII</td>\n",
       "      <td>64</td>\n",
       "    </tr>\n",
       "    <tr>\n",
       "      <th>6</th>\n",
       "      <td>Desjardins</td>\n",
       "      <td>VNI</td>\n",
       "      <td>185</td>\n",
       "    </tr>\n",
       "    <tr>\n",
       "      <th>7</th>\n",
       "      <td>Desjardins</td>\n",
       "      <td>VNII</td>\n",
       "      <td>16</td>\n",
       "    </tr>\n",
       "    <tr>\n",
       "      <th>8</th>\n",
       "      <td>Reference</td>\n",
       "      <td>VNI</td>\n",
       "      <td>1</td>\n",
       "    </tr>\n",
       "  </tbody>\n",
       "</table>\n",
       "</div>"
      ],
      "text/plain": [
       "      dataset    lineage  counts\n",
       "0      Ashton  AD_hybrid       5\n",
       "1      Ashton        VNI     678\n",
       "2      Ashton       VNII       4\n",
       "3      Ashton     gattii      12\n",
       "4  Desjardins       VNBI     122\n",
       "5  Desjardins      VNBII      64\n",
       "6  Desjardins        VNI     185\n",
       "7  Desjardins       VNII      16\n",
       "8   Reference        VNI       1"
      ]
     },
     "execution_count": 18,
     "metadata": {},
     "output_type": "execute_result"
    }
   ],
   "source": [
    "metadata.groupby(['dataset', 'lineage'], observed=True).size().reset_index(name='counts')"
   ]
  },
  {
   "cell_type": "code",
   "execution_count": 19,
   "metadata": {},
   "outputs": [],
   "source": [
    "metadata.to_csv(metadata_path, index=False)"
   ]
  },
  {
   "cell_type": "markdown",
   "metadata": {},
   "source": [
    "### WeavePop"
   ]
  },
  {
   "cell_type": "code",
   "execution_count": 20,
   "metadata": {},
   "outputs": [
    {
     "data": {
      "text/plain": [
       "1026"
      ]
     },
     "execution_count": 20,
     "metadata": {},
     "output_type": "execute_result"
    }
   ],
   "source": [
    "metadata_weavepop = metadata[metadata['excluded'].isna()].copy()\n",
    "len(metadata_weavepop)"
   ]
  },
  {
   "cell_type": "code",
   "execution_count": 21,
   "metadata": {},
   "outputs": [
    {
     "data": {
      "application/vnd.microsoft.datawrangler.viewer.v0+json": {
       "columns": [
        {
         "name": "index",
         "rawType": "int64",
         "type": "integer"
        },
        {
         "name": "dataset",
         "rawType": "object",
         "type": "string"
        },
        {
         "name": "lineage",
         "rawType": "object",
         "type": "string"
        },
        {
         "name": "counts",
         "rawType": "int64",
         "type": "integer"
        }
       ],
       "ref": "1ecd7a0d-e8ed-416b-82e0-5c067b1fe435",
       "rows": [
        [
         "0",
         "Ashton",
         "VNI",
         "646"
        ],
        [
         "1",
         "Desjardins",
         "VNBI",
         "120"
        ],
        [
         "2",
         "Desjardins",
         "VNBII",
         "62"
        ],
        [
         "3",
         "Desjardins",
         "VNI",
         "181"
        ],
        [
         "4",
         "Desjardins",
         "VNII",
         "16"
        ],
        [
         "5",
         "Reference",
         "VNI",
         "1"
        ]
       ],
       "shape": {
        "columns": 3,
        "rows": 6
       }
      },
      "text/html": [
       "<div>\n",
       "<style scoped>\n",
       "    .dataframe tbody tr th:only-of-type {\n",
       "        vertical-align: middle;\n",
       "    }\n",
       "\n",
       "    .dataframe tbody tr th {\n",
       "        vertical-align: top;\n",
       "    }\n",
       "\n",
       "    .dataframe thead th {\n",
       "        text-align: right;\n",
       "    }\n",
       "</style>\n",
       "<table border=\"1\" class=\"dataframe\">\n",
       "  <thead>\n",
       "    <tr style=\"text-align: right;\">\n",
       "      <th></th>\n",
       "      <th>dataset</th>\n",
       "      <th>lineage</th>\n",
       "      <th>counts</th>\n",
       "    </tr>\n",
       "  </thead>\n",
       "  <tbody>\n",
       "    <tr>\n",
       "      <th>0</th>\n",
       "      <td>Ashton</td>\n",
       "      <td>VNI</td>\n",
       "      <td>646</td>\n",
       "    </tr>\n",
       "    <tr>\n",
       "      <th>1</th>\n",
       "      <td>Desjardins</td>\n",
       "      <td>VNBI</td>\n",
       "      <td>120</td>\n",
       "    </tr>\n",
       "    <tr>\n",
       "      <th>2</th>\n",
       "      <td>Desjardins</td>\n",
       "      <td>VNBII</td>\n",
       "      <td>62</td>\n",
       "    </tr>\n",
       "    <tr>\n",
       "      <th>3</th>\n",
       "      <td>Desjardins</td>\n",
       "      <td>VNI</td>\n",
       "      <td>181</td>\n",
       "    </tr>\n",
       "    <tr>\n",
       "      <th>4</th>\n",
       "      <td>Desjardins</td>\n",
       "      <td>VNII</td>\n",
       "      <td>16</td>\n",
       "    </tr>\n",
       "    <tr>\n",
       "      <th>5</th>\n",
       "      <td>Reference</td>\n",
       "      <td>VNI</td>\n",
       "      <td>1</td>\n",
       "    </tr>\n",
       "  </tbody>\n",
       "</table>\n",
       "</div>"
      ],
      "text/plain": [
       "      dataset lineage  counts\n",
       "0      Ashton     VNI     646\n",
       "1  Desjardins    VNBI     120\n",
       "2  Desjardins   VNBII      62\n",
       "3  Desjardins     VNI     181\n",
       "4  Desjardins    VNII      16\n",
       "5   Reference     VNI       1"
      ]
     },
     "execution_count": 21,
     "metadata": {},
     "output_type": "execute_result"
    }
   ],
   "source": [
    "metadata_weavepop.groupby(['dataset', 'lineage'], observed=True, dropna=False).size().reset_index(name='counts')"
   ]
  },
  {
   "cell_type": "code",
   "execution_count": 22,
   "metadata": {},
   "outputs": [
    {
     "data": {
      "application/vnd.microsoft.datawrangler.viewer.v0+json": {
       "columns": [
        {
         "name": "index",
         "rawType": "int64",
         "type": "integer"
        },
        {
         "name": "lineage",
         "rawType": "object",
         "type": "string"
        },
        {
         "name": "source",
         "rawType": "object",
         "type": "string"
        },
        {
         "name": "counts",
         "rawType": "int64",
         "type": "integer"
        }
       ],
       "ref": "0fa58ac4-7821-4433-9975-6108fc9d9fd9",
       "rows": [
        [
         "0",
         "VNBI",
         "Clinical",
         "49"
        ],
        [
         "1",
         "VNBI",
         "Environmental",
         "71"
        ],
        [
         "2",
         "VNBII",
         "Clinical",
         "59"
        ],
        [
         "3",
         "VNBII",
         "Environmental",
         "3"
        ],
        [
         "4",
         "VNI",
         "Clinical",
         "800"
        ],
        [
         "5",
         "VNI",
         "Environmental",
         "28"
        ],
        [
         "6",
         "VNII",
         "Clinical",
         "15"
        ],
        [
         "7",
         "VNII",
         "Environmental",
         "1"
        ]
       ],
       "shape": {
        "columns": 3,
        "rows": 8
       }
      },
      "text/html": [
       "<div>\n",
       "<style scoped>\n",
       "    .dataframe tbody tr th:only-of-type {\n",
       "        vertical-align: middle;\n",
       "    }\n",
       "\n",
       "    .dataframe tbody tr th {\n",
       "        vertical-align: top;\n",
       "    }\n",
       "\n",
       "    .dataframe thead th {\n",
       "        text-align: right;\n",
       "    }\n",
       "</style>\n",
       "<table border=\"1\" class=\"dataframe\">\n",
       "  <thead>\n",
       "    <tr style=\"text-align: right;\">\n",
       "      <th></th>\n",
       "      <th>lineage</th>\n",
       "      <th>source</th>\n",
       "      <th>counts</th>\n",
       "    </tr>\n",
       "  </thead>\n",
       "  <tbody>\n",
       "    <tr>\n",
       "      <th>0</th>\n",
       "      <td>VNBI</td>\n",
       "      <td>Clinical</td>\n",
       "      <td>49</td>\n",
       "    </tr>\n",
       "    <tr>\n",
       "      <th>1</th>\n",
       "      <td>VNBI</td>\n",
       "      <td>Environmental</td>\n",
       "      <td>71</td>\n",
       "    </tr>\n",
       "    <tr>\n",
       "      <th>2</th>\n",
       "      <td>VNBII</td>\n",
       "      <td>Clinical</td>\n",
       "      <td>59</td>\n",
       "    </tr>\n",
       "    <tr>\n",
       "      <th>3</th>\n",
       "      <td>VNBII</td>\n",
       "      <td>Environmental</td>\n",
       "      <td>3</td>\n",
       "    </tr>\n",
       "    <tr>\n",
       "      <th>4</th>\n",
       "      <td>VNI</td>\n",
       "      <td>Clinical</td>\n",
       "      <td>800</td>\n",
       "    </tr>\n",
       "    <tr>\n",
       "      <th>5</th>\n",
       "      <td>VNI</td>\n",
       "      <td>Environmental</td>\n",
       "      <td>28</td>\n",
       "    </tr>\n",
       "    <tr>\n",
       "      <th>6</th>\n",
       "      <td>VNII</td>\n",
       "      <td>Clinical</td>\n",
       "      <td>15</td>\n",
       "    </tr>\n",
       "    <tr>\n",
       "      <th>7</th>\n",
       "      <td>VNII</td>\n",
       "      <td>Environmental</td>\n",
       "      <td>1</td>\n",
       "    </tr>\n",
       "  </tbody>\n",
       "</table>\n",
       "</div>"
      ],
      "text/plain": [
       "  lineage         source  counts\n",
       "0    VNBI       Clinical      49\n",
       "1    VNBI  Environmental      71\n",
       "2   VNBII       Clinical      59\n",
       "3   VNBII  Environmental       3\n",
       "4     VNI       Clinical     800\n",
       "5     VNI  Environmental      28\n",
       "6    VNII       Clinical      15\n",
       "7    VNII  Environmental       1"
      ]
     },
     "execution_count": 22,
     "metadata": {},
     "output_type": "execute_result"
    }
   ],
   "source": [
    "metadata_weavepop.groupby(['lineage', 'source'], observed=True, dropna=False).size().reset_index(name='counts')"
   ]
  },
  {
   "cell_type": "code",
   "execution_count": 23,
   "metadata": {},
   "outputs": [
    {
     "data": {
      "application/vnd.microsoft.datawrangler.viewer.v0+json": {
       "columns": [
        {
         "name": "index",
         "rawType": "int64",
         "type": "integer"
        },
        {
         "name": "lineage",
         "rawType": "object",
         "type": "string"
        },
        {
         "name": "continent_of_origin",
         "rawType": "object",
         "type": "string"
        },
        {
         "name": "counts",
         "rawType": "int64",
         "type": "integer"
        }
       ],
       "ref": "8a6930f3-5681-4994-a43b-b2b214db86c3",
       "rows": [
        [
         "0",
         "VNBI",
         "Africa",
         "120"
        ],
        [
         "1",
         "VNBII",
         "Africa",
         "62"
        ],
        [
         "2",
         "VNI",
         "Africa",
         "265"
        ],
        [
         "3",
         "VNI",
         "Asia",
         "524"
        ],
        [
         "4",
         "VNI",
         "Europe",
         "26"
        ],
        [
         "5",
         "VNI",
         "North America",
         "12"
        ],
        [
         "6",
         "VNI",
         "South America",
         "1"
        ],
        [
         "7",
         "VNII",
         "Africa",
         "7"
        ],
        [
         "8",
         "VNII",
         "Australasia",
         "1"
        ],
        [
         "9",
         "VNII",
         "Europe",
         "3"
        ],
        [
         "10",
         "VNII",
         "North America",
         "5"
        ]
       ],
       "shape": {
        "columns": 3,
        "rows": 11
       }
      },
      "text/html": [
       "<div>\n",
       "<style scoped>\n",
       "    .dataframe tbody tr th:only-of-type {\n",
       "        vertical-align: middle;\n",
       "    }\n",
       "\n",
       "    .dataframe tbody tr th {\n",
       "        vertical-align: top;\n",
       "    }\n",
       "\n",
       "    .dataframe thead th {\n",
       "        text-align: right;\n",
       "    }\n",
       "</style>\n",
       "<table border=\"1\" class=\"dataframe\">\n",
       "  <thead>\n",
       "    <tr style=\"text-align: right;\">\n",
       "      <th></th>\n",
       "      <th>lineage</th>\n",
       "      <th>continent_of_origin</th>\n",
       "      <th>counts</th>\n",
       "    </tr>\n",
       "  </thead>\n",
       "  <tbody>\n",
       "    <tr>\n",
       "      <th>0</th>\n",
       "      <td>VNBI</td>\n",
       "      <td>Africa</td>\n",
       "      <td>120</td>\n",
       "    </tr>\n",
       "    <tr>\n",
       "      <th>1</th>\n",
       "      <td>VNBII</td>\n",
       "      <td>Africa</td>\n",
       "      <td>62</td>\n",
       "    </tr>\n",
       "    <tr>\n",
       "      <th>2</th>\n",
       "      <td>VNI</td>\n",
       "      <td>Africa</td>\n",
       "      <td>265</td>\n",
       "    </tr>\n",
       "    <tr>\n",
       "      <th>3</th>\n",
       "      <td>VNI</td>\n",
       "      <td>Asia</td>\n",
       "      <td>524</td>\n",
       "    </tr>\n",
       "    <tr>\n",
       "      <th>4</th>\n",
       "      <td>VNI</td>\n",
       "      <td>Europe</td>\n",
       "      <td>26</td>\n",
       "    </tr>\n",
       "    <tr>\n",
       "      <th>5</th>\n",
       "      <td>VNI</td>\n",
       "      <td>North America</td>\n",
       "      <td>12</td>\n",
       "    </tr>\n",
       "    <tr>\n",
       "      <th>6</th>\n",
       "      <td>VNI</td>\n",
       "      <td>South America</td>\n",
       "      <td>1</td>\n",
       "    </tr>\n",
       "    <tr>\n",
       "      <th>7</th>\n",
       "      <td>VNII</td>\n",
       "      <td>Africa</td>\n",
       "      <td>7</td>\n",
       "    </tr>\n",
       "    <tr>\n",
       "      <th>8</th>\n",
       "      <td>VNII</td>\n",
       "      <td>Australasia</td>\n",
       "      <td>1</td>\n",
       "    </tr>\n",
       "    <tr>\n",
       "      <th>9</th>\n",
       "      <td>VNII</td>\n",
       "      <td>Europe</td>\n",
       "      <td>3</td>\n",
       "    </tr>\n",
       "    <tr>\n",
       "      <th>10</th>\n",
       "      <td>VNII</td>\n",
       "      <td>North America</td>\n",
       "      <td>5</td>\n",
       "    </tr>\n",
       "  </tbody>\n",
       "</table>\n",
       "</div>"
      ],
      "text/plain": [
       "   lineage continent_of_origin  counts\n",
       "0     VNBI              Africa     120\n",
       "1    VNBII              Africa      62\n",
       "2      VNI              Africa     265\n",
       "3      VNI                Asia     524\n",
       "4      VNI              Europe      26\n",
       "5      VNI       North America      12\n",
       "6      VNI       South America       1\n",
       "7     VNII              Africa       7\n",
       "8     VNII         Australasia       1\n",
       "9     VNII              Europe       3\n",
       "10    VNII       North America       5"
      ]
     },
     "execution_count": 23,
     "metadata": {},
     "output_type": "execute_result"
    }
   ],
   "source": [
    "metadata_weavepop.groupby(['lineage', 'continent_of_origin'], observed=True, dropna=False).size().reset_index(name='counts')"
   ]
  },
  {
   "cell_type": "code",
   "execution_count": 24,
   "metadata": {},
   "outputs": [
    {
     "data": {
      "application/vnd.microsoft.datawrangler.viewer.v0+json": {
       "columns": [
        {
         "name": "index",
         "rawType": "int64",
         "type": "integer"
        },
        {
         "name": "lineage",
         "rawType": "object",
         "type": "string"
        },
        {
         "name": "mating_type",
         "rawType": "object",
         "type": "unknown"
        },
        {
         "name": "counts",
         "rawType": "int64",
         "type": "integer"
        }
       ],
       "ref": "6643c78f-4f1b-484f-8da2-188d597a0f9a",
       "rows": [
        [
         "0",
         "VNBI",
         "a",
         "33"
        ],
        [
         "1",
         "VNBI",
         "α",
         "86"
        ],
        [
         "2",
         "VNBI",
         null,
         "1"
        ],
        [
         "3",
         "VNBII",
         "a",
         "8"
        ],
        [
         "4",
         "VNBII",
         "α",
         "54"
        ],
        [
         "5",
         "VNI",
         "a",
         "3"
        ],
        [
         "6",
         "VNI",
         "α",
         "179"
        ],
        [
         "7",
         "VNI",
         null,
         "646"
        ],
        [
         "8",
         "VNII",
         "α",
         "16"
        ]
       ],
       "shape": {
        "columns": 3,
        "rows": 9
       }
      },
      "text/html": [
       "<div>\n",
       "<style scoped>\n",
       "    .dataframe tbody tr th:only-of-type {\n",
       "        vertical-align: middle;\n",
       "    }\n",
       "\n",
       "    .dataframe tbody tr th {\n",
       "        vertical-align: top;\n",
       "    }\n",
       "\n",
       "    .dataframe thead th {\n",
       "        text-align: right;\n",
       "    }\n",
       "</style>\n",
       "<table border=\"1\" class=\"dataframe\">\n",
       "  <thead>\n",
       "    <tr style=\"text-align: right;\">\n",
       "      <th></th>\n",
       "      <th>lineage</th>\n",
       "      <th>mating_type</th>\n",
       "      <th>counts</th>\n",
       "    </tr>\n",
       "  </thead>\n",
       "  <tbody>\n",
       "    <tr>\n",
       "      <th>0</th>\n",
       "      <td>VNBI</td>\n",
       "      <td>a</td>\n",
       "      <td>33</td>\n",
       "    </tr>\n",
       "    <tr>\n",
       "      <th>1</th>\n",
       "      <td>VNBI</td>\n",
       "      <td>α</td>\n",
       "      <td>86</td>\n",
       "    </tr>\n",
       "    <tr>\n",
       "      <th>2</th>\n",
       "      <td>VNBI</td>\n",
       "      <td>NaN</td>\n",
       "      <td>1</td>\n",
       "    </tr>\n",
       "    <tr>\n",
       "      <th>3</th>\n",
       "      <td>VNBII</td>\n",
       "      <td>a</td>\n",
       "      <td>8</td>\n",
       "    </tr>\n",
       "    <tr>\n",
       "      <th>4</th>\n",
       "      <td>VNBII</td>\n",
       "      <td>α</td>\n",
       "      <td>54</td>\n",
       "    </tr>\n",
       "    <tr>\n",
       "      <th>5</th>\n",
       "      <td>VNI</td>\n",
       "      <td>a</td>\n",
       "      <td>3</td>\n",
       "    </tr>\n",
       "    <tr>\n",
       "      <th>6</th>\n",
       "      <td>VNI</td>\n",
       "      <td>α</td>\n",
       "      <td>179</td>\n",
       "    </tr>\n",
       "    <tr>\n",
       "      <th>7</th>\n",
       "      <td>VNI</td>\n",
       "      <td>NaN</td>\n",
       "      <td>646</td>\n",
       "    </tr>\n",
       "    <tr>\n",
       "      <th>8</th>\n",
       "      <td>VNII</td>\n",
       "      <td>α</td>\n",
       "      <td>16</td>\n",
       "    </tr>\n",
       "  </tbody>\n",
       "</table>\n",
       "</div>"
      ],
      "text/plain": [
       "  lineage mating_type  counts\n",
       "0    VNBI           a      33\n",
       "1    VNBI           α      86\n",
       "2    VNBI         NaN       1\n",
       "3   VNBII           a       8\n",
       "4   VNBII           α      54\n",
       "5     VNI           a       3\n",
       "6     VNI           α     179\n",
       "7     VNI         NaN     646\n",
       "8    VNII           α      16"
      ]
     },
     "execution_count": 24,
     "metadata": {},
     "output_type": "execute_result"
    }
   ],
   "source": [
    "metadata_weavepop.groupby(['lineage', 'mating_type'], observed=True, dropna=False).size().reset_index(name='counts')"
   ]
  },
  {
   "cell_type": "code",
   "execution_count": 25,
   "metadata": {},
   "outputs": [],
   "source": [
    "metadata_weavepop.to_csv(metadata_final_path, index=False)"
   ]
  },
  {
   "cell_type": "markdown",
   "metadata": {},
   "source": [
    "### WeavePop VNI"
   ]
  },
  {
   "cell_type": "code",
   "execution_count": 26,
   "metadata": {},
   "outputs": [
    {
     "data": {
      "text/plain": [
       "828"
      ]
     },
     "execution_count": 26,
     "metadata": {},
     "output_type": "execute_result"
    }
   ],
   "source": [
    "metadata_vni = metadata_weavepop[metadata_weavepop['lineage'] == 'VNI'].copy()\n",
    "len(metadata_vni)"
   ]
  },
  {
   "cell_type": "code",
   "execution_count": 27,
   "metadata": {},
   "outputs": [
    {
     "data": {
      "application/vnd.microsoft.datawrangler.viewer.v0+json": {
       "columns": [
        {
         "name": "index",
         "rawType": "int64",
         "type": "integer"
        },
        {
         "name": "lineage",
         "rawType": "object",
         "type": "string"
        },
        {
         "name": "dataset",
         "rawType": "object",
         "type": "string"
        },
        {
         "name": "counts",
         "rawType": "int64",
         "type": "integer"
        }
       ],
       "ref": "0ec31aab-8853-43a3-8c58-f075326180c6",
       "rows": [
        [
         "0",
         "VNI",
         "Ashton",
         "646"
        ],
        [
         "1",
         "VNI",
         "Desjardins",
         "181"
        ],
        [
         "2",
         "VNI",
         "Reference",
         "1"
        ]
       ],
       "shape": {
        "columns": 3,
        "rows": 3
       }
      },
      "text/html": [
       "<div>\n",
       "<style scoped>\n",
       "    .dataframe tbody tr th:only-of-type {\n",
       "        vertical-align: middle;\n",
       "    }\n",
       "\n",
       "    .dataframe tbody tr th {\n",
       "        vertical-align: top;\n",
       "    }\n",
       "\n",
       "    .dataframe thead th {\n",
       "        text-align: right;\n",
       "    }\n",
       "</style>\n",
       "<table border=\"1\" class=\"dataframe\">\n",
       "  <thead>\n",
       "    <tr style=\"text-align: right;\">\n",
       "      <th></th>\n",
       "      <th>lineage</th>\n",
       "      <th>dataset</th>\n",
       "      <th>counts</th>\n",
       "    </tr>\n",
       "  </thead>\n",
       "  <tbody>\n",
       "    <tr>\n",
       "      <th>0</th>\n",
       "      <td>VNI</td>\n",
       "      <td>Ashton</td>\n",
       "      <td>646</td>\n",
       "    </tr>\n",
       "    <tr>\n",
       "      <th>1</th>\n",
       "      <td>VNI</td>\n",
       "      <td>Desjardins</td>\n",
       "      <td>181</td>\n",
       "    </tr>\n",
       "    <tr>\n",
       "      <th>2</th>\n",
       "      <td>VNI</td>\n",
       "      <td>Reference</td>\n",
       "      <td>1</td>\n",
       "    </tr>\n",
       "  </tbody>\n",
       "</table>\n",
       "</div>"
      ],
      "text/plain": [
       "  lineage     dataset  counts\n",
       "0     VNI      Ashton     646\n",
       "1     VNI  Desjardins     181\n",
       "2     VNI   Reference       1"
      ]
     },
     "execution_count": 27,
     "metadata": {},
     "output_type": "execute_result"
    }
   ],
   "source": [
    "metadata_vni.groupby(['lineage', 'dataset'], observed=True, dropna=False).size().reset_index(name='counts')"
   ]
  },
  {
   "cell_type": "code",
   "execution_count": 28,
   "metadata": {},
   "outputs": [],
   "source": [
    "metadata_vni.to_csv(metadata_vni_path, index=False)"
   ]
  },
  {
   "cell_type": "markdown",
   "metadata": {},
   "source": [
    "## Compare names in the Ashton phylogeny to metadata"
   ]
  },
  {
   "cell_type": "code",
   "execution_count": 29,
   "metadata": {},
   "outputs": [
    {
     "name": "stdout",
     "output_type": "stream",
     "text": [
      "865\n"
     ]
    },
    {
     "data": {
      "text/plain": [
       "['04CN-63-018']"
      ]
     },
     "execution_count": 29,
     "metadata": {},
     "output_type": "execute_result"
    }
   ],
   "source": [
    "tree = Phylo.read('/FastData/czirion/WeavePop_Cneoformans/analyses/data/raw/2017.06.09.all_ours_and_desj.snp_sites.mod.fa.cln.tree', 'newick')\n",
    "tips =[tip.name for tip in tree.get_terminals()]\n",
    "print(len(tips))\n",
    "tips_not_in_metadata = [tip for tip in tips if tip not in metadata['strain'].values and tip not in metadata['run'].values]\n",
    "tips_not_in_metadata"
   ]
  },
  {
   "cell_type": "markdown",
   "metadata": {},
   "source": [
    "The Ashton tree has the strain names for the Ashton samples and the run accession for the Desjardins VNI samples.  \n",
    "There is one sample in the Ashton tree that is not in the metadata table."
   ]
  },
  {
   "cell_type": "code",
   "execution_count": 30,
   "metadata": {},
   "outputs": [
    {
     "data": {
      "application/vnd.microsoft.datawrangler.viewer.v0+json": {
       "columns": [
        {
         "name": "index",
         "rawType": "int64",
         "type": "integer"
        },
        {
         "name": "lineage",
         "rawType": "object",
         "type": "string"
        },
        {
         "name": "counts",
         "rawType": "int64",
         "type": "integer"
        }
       ],
       "ref": "af67535a-15e0-4c99-9203-099f3422eba3",
       "rows": [
        [
         "0",
         "AD_hybrid",
         "5"
        ],
        [
         "1",
         "VNBI",
         "122"
        ],
        [
         "2",
         "VNBII",
         "64"
        ],
        [
         "3",
         "VNI",
         "186"
        ],
        [
         "4",
         "VNII",
         "20"
        ],
        [
         "5",
         "gattii",
         "12"
        ]
       ],
       "shape": {
        "columns": 2,
        "rows": 6
       }
      },
      "text/html": [
       "<div>\n",
       "<style scoped>\n",
       "    .dataframe tbody tr th:only-of-type {\n",
       "        vertical-align: middle;\n",
       "    }\n",
       "\n",
       "    .dataframe tbody tr th {\n",
       "        vertical-align: top;\n",
       "    }\n",
       "\n",
       "    .dataframe thead th {\n",
       "        text-align: right;\n",
       "    }\n",
       "</style>\n",
       "<table border=\"1\" class=\"dataframe\">\n",
       "  <thead>\n",
       "    <tr style=\"text-align: right;\">\n",
       "      <th></th>\n",
       "      <th>lineage</th>\n",
       "      <th>counts</th>\n",
       "    </tr>\n",
       "  </thead>\n",
       "  <tbody>\n",
       "    <tr>\n",
       "      <th>0</th>\n",
       "      <td>AD_hybrid</td>\n",
       "      <td>5</td>\n",
       "    </tr>\n",
       "    <tr>\n",
       "      <th>1</th>\n",
       "      <td>VNBI</td>\n",
       "      <td>122</td>\n",
       "    </tr>\n",
       "    <tr>\n",
       "      <th>2</th>\n",
       "      <td>VNBII</td>\n",
       "      <td>64</td>\n",
       "    </tr>\n",
       "    <tr>\n",
       "      <th>3</th>\n",
       "      <td>VNI</td>\n",
       "      <td>186</td>\n",
       "    </tr>\n",
       "    <tr>\n",
       "      <th>4</th>\n",
       "      <td>VNII</td>\n",
       "      <td>20</td>\n",
       "    </tr>\n",
       "    <tr>\n",
       "      <th>5</th>\n",
       "      <td>gattii</td>\n",
       "      <td>12</td>\n",
       "    </tr>\n",
       "  </tbody>\n",
       "</table>\n",
       "</div>"
      ],
      "text/plain": [
       "     lineage  counts\n",
       "0  AD_hybrid       5\n",
       "1       VNBI     122\n",
       "2      VNBII      64\n",
       "3        VNI     186\n",
       "4       VNII      20\n",
       "5     gattii      12"
      ]
     },
     "execution_count": 30,
     "metadata": {},
     "output_type": "execute_result"
    }
   ],
   "source": [
    "strains_not_in_tree = metadata[~metadata['strain'].isin(tips)].reset_index(drop = True)\n",
    "strains_not_in_tree.groupby(['lineage'], observed=True).size().reset_index(name='counts')"
   ]
  }
 ],
 "metadata": {
  "kernelspec": {
   "display_name": "python_env",
   "language": "python",
   "name": "python3"
  },
  "language_info": {
   "codemirror_mode": {
    "name": "ipython",
    "version": 3
   },
   "file_extension": ".py",
   "mimetype": "text/x-python",
   "name": "python",
   "nbconvert_exporter": "python",
   "pygments_lexer": "ipython3",
   "version": "3.13.5"
  }
 },
 "nbformat": 4,
 "nbformat_minor": 2
}
