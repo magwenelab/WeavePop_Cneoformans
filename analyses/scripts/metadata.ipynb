{
 "cells": [
  {
   "cell_type": "markdown",
   "metadata": {},
   "source": [
    "Libraries"
   ]
  },
  {
   "cell_type": "code",
   "execution_count": 1,
   "metadata": {},
   "outputs": [],
   "source": [
    "import pandas as pd\n",
    "import os\n",
    "import numpy as np\n"
   ]
  },
  {
   "cell_type": "markdown",
   "metadata": {},
   "source": [
    "Paths"
   ]
  },
  {
   "cell_type": "code",
   "execution_count": 2,
   "metadata": {},
   "outputs": [],
   "source": [
    "os.chdir(\"/FastData/czirion/WeavePop_Cneoformans/\")"
   ]
  },
  {
   "cell_type": "code",
   "execution_count": 3,
   "metadata": {},
   "outputs": [],
   "source": [
    "# Input\n",
    "metadata_weavepop_joined_path = \"Crypto_Desjardins_Ashton/results/02.Dataset/metadata.csv\"\n",
    "metadata_from_ashton_path = \"Crypto_Ashton/config/metadata_all_ashton_and_vni_desj.csv\"\n",
    "#Output\n",
    "metadata_fixed_path =  \"analyses/data/processed/metadata_ashton_desj_all_weavepop_complete_info.csv\"\n",
    "metadata_all_H99_path = \"analyses/data/processed/metadata_ashton_desj_all_weavepop_H99.csv\"\n",
    "metadata_vni_path = \"analyses/data/processed/metadata_ashton_desj_vni_weavepop.csv\""
   ]
  },
  {
   "cell_type": "markdown",
   "metadata": {},
   "source": [
    "Get metadata of both Desjardins and Ashton datasets from the WeavePop joined analysis."
   ]
  },
  {
   "cell_type": "code",
   "execution_count": 4,
   "metadata": {},
   "outputs": [],
   "source": [
    "metadata_weavepop_joined = pd.read_csv(metadata_weavepop_joined_path, header=0)"
   ]
  },
  {
   "cell_type": "markdown",
   "metadata": {},
   "source": [
    "Homogenize some values"
   ]
  },
  {
   "cell_type": "code",
   "execution_count": 5,
   "metadata": {},
   "outputs": [],
   "source": [
    "metadata_weavepop_joined['source'] = metadata_weavepop_joined['source'].replace('Environment', 'Environmental')\n",
    "metadata_weavepop_joined['country_of_origin'] = metadata_weavepop_joined['country_of_origin'].str.strip()\n",
    "metadata_weavepop_joined['mating_type'] = metadata_weavepop_joined['mating_type'].replace('not assigned', np.nan)"
   ]
  },
  {
   "cell_type": "markdown",
   "metadata": {},
   "source": [
    "Get the metadata from the Ashton paper and drop the columns that are already in the other metadata."
   ]
  },
  {
   "cell_type": "code",
   "execution_count": 6,
   "metadata": {},
   "outputs": [],
   "source": [
    "metadata_from_ashton = pd.read_csv(metadata_from_ashton_path, header=0)\n",
    "metadata_from_ashton.columns = metadata_from_ashton.columns.str.lower().str.replace(' ', '_')\n",
    "metadata_from_ashton.drop(columns=['country_of_origin', 'species_id_from_mash_anlaysis', 'study',\n",
    "       'hiv_status', 'continent_of_origin', 'year_of_origin',\n",
    "       'mean_depth_of_mapping_with_mq_>_30_across_whole_genome',\n",
    "       'proportion_of_genome_covered_by_at_least_5_reads_which_mapped_with_mq_>_30', 'source'], inplace=True)\n"
   ]
  },
  {
   "cell_type": "markdown",
   "metadata": {},
   "source": [
    "Merge them only on the column sample keeping the sample in the WeavePop analysis."
   ]
  },
  {
   "cell_type": "code",
   "execution_count": 7,
   "metadata": {},
   "outputs": [],
   "source": [
    "metadata_fixed = metadata_weavepop_joined.merge(metadata_from_ashton, on = 'sample', how=\"left\")"
   ]
  },
  {
   "cell_type": "markdown",
   "metadata": {},
   "source": [
    "In the Desjardins samples keep the strain and lineage from the WeavePop analysis, and in the Ashton samples keep the species and lineage from the Ashton metadata."
   ]
  },
  {
   "cell_type": "code",
   "execution_count": 8,
   "metadata": {},
   "outputs": [],
   "source": [
    "metadata_fixed.loc[metadata_fixed[\"dataset\"] == \"Desjardins\", \"strain\"] = metadata_fixed[\"strain_x\"]\n",
    "metadata_fixed.loc[metadata_fixed[\"dataset\"] == \"Desjardins\", \"lineage\"] = metadata_fixed[\"lineage_x\"]\n",
    "metadata_fixed.loc[metadata_fixed[\"dataset\"] == \"Ashton\", \"strain\"] = metadata_fixed[\"strain_y\"]\n",
    "metadata_fixed.loc[metadata_fixed[\"dataset\"] == \"Ashton\", \"lineage\"] = metadata_fixed[\"lineage_y\"]"
   ]
  },
  {
   "cell_type": "markdown",
   "metadata": {},
   "source": [
    "Keep the run accessions from the Ashton metadata where available to be able to link the Desjarins samples to the Ashton tree (that includes them)."
   ]
  },
  {
   "cell_type": "code",
   "execution_count": 9,
   "metadata": {},
   "outputs": [],
   "source": [
    "metadata_fixed.loc[metadata_fixed[\"sra_accession_y\"].notna(), \"run\"] = metadata_fixed[\"sra_accession_y\"]\n",
    "metadata_fixed.loc[metadata_fixed[\"sra_accession_y\"].isna(), \"run\"] = metadata_fixed[\"sra_accession_x\"]"
   ]
  },
  {
   "cell_type": "markdown",
   "metadata": {},
   "source": [
    "Keep the vni_subdivision from the Ashton metadata"
   ]
  },
  {
   "cell_type": "code",
   "execution_count": 10,
   "metadata": {},
   "outputs": [],
   "source": [
    "metadata_fixed = metadata_fixed.rename(columns={\"vni_subdivision_y\": \"vni_subdivision\"})"
   ]
  },
  {
   "cell_type": "markdown",
   "metadata": {},
   "source": [
    "Cleanup"
   ]
  },
  {
   "cell_type": "code",
   "execution_count": 11,
   "metadata": {},
   "outputs": [],
   "source": [
    "metadata_fixed = metadata_fixed.drop(columns=[\"strain_x\", \"strain_y\", \"lineage_x\", \"lineage_y\", \"vni_subdivision_x\", \"sra_accession_x\", \"sra_accession_y\"])\n",
    "metadata_fixed = metadata_fixed[['sample', 'run', 'strain','lineage', 'vni_subdivision', 'dataset', 'source'] + [col for col in metadata_fixed.columns if col not in ['sample', 'strain','lineage','source','dataset','vni_subdivision','run'] ]]\n",
    "metadata_fixed = metadata_fixed.sort_values('vni_subdivision')"
   ]
  },
  {
   "cell_type": "code",
   "execution_count": 12,
   "metadata": {},
   "outputs": [
    {
     "data": {
      "application/vnd.microsoft.datawrangler.viewer.v0+json": {
       "columns": [
        {
         "name": "index",
         "rawType": "int64",
         "type": "integer"
        },
        {
         "name": "dataset",
         "rawType": "object",
         "type": "string"
        },
        {
         "name": "lineage",
         "rawType": "object",
         "type": "string"
        },
        {
         "name": "counts",
         "rawType": "int64",
         "type": "integer"
        }
       ],
       "conversionMethod": "pd.DataFrame",
       "ref": "d67b9958-d37b-4f3e-b7f8-1aa50b8fe2ca",
       "rows": [
        [
         "0",
         "Ashton",
         "VNI",
         "668"
        ],
        [
         "1",
         "Desjardins",
         "VNBI",
         "122"
        ],
        [
         "2",
         "Desjardins",
         "VNBII",
         "64"
        ],
        [
         "3",
         "Desjardins",
         "VNI",
         "185"
        ],
        [
         "4",
         "Desjardins",
         "VNII",
         "16"
        ]
       ],
       "shape": {
        "columns": 3,
        "rows": 5
       }
      },
      "text/html": [
       "<div>\n",
       "<style scoped>\n",
       "    .dataframe tbody tr th:only-of-type {\n",
       "        vertical-align: middle;\n",
       "    }\n",
       "\n",
       "    .dataframe tbody tr th {\n",
       "        vertical-align: top;\n",
       "    }\n",
       "\n",
       "    .dataframe thead th {\n",
       "        text-align: right;\n",
       "    }\n",
       "</style>\n",
       "<table border=\"1\" class=\"dataframe\">\n",
       "  <thead>\n",
       "    <tr style=\"text-align: right;\">\n",
       "      <th></th>\n",
       "      <th>dataset</th>\n",
       "      <th>lineage</th>\n",
       "      <th>counts</th>\n",
       "    </tr>\n",
       "  </thead>\n",
       "  <tbody>\n",
       "    <tr>\n",
       "      <th>0</th>\n",
       "      <td>Ashton</td>\n",
       "      <td>VNI</td>\n",
       "      <td>668</td>\n",
       "    </tr>\n",
       "    <tr>\n",
       "      <th>1</th>\n",
       "      <td>Desjardins</td>\n",
       "      <td>VNBI</td>\n",
       "      <td>122</td>\n",
       "    </tr>\n",
       "    <tr>\n",
       "      <th>2</th>\n",
       "      <td>Desjardins</td>\n",
       "      <td>VNBII</td>\n",
       "      <td>64</td>\n",
       "    </tr>\n",
       "    <tr>\n",
       "      <th>3</th>\n",
       "      <td>Desjardins</td>\n",
       "      <td>VNI</td>\n",
       "      <td>185</td>\n",
       "    </tr>\n",
       "    <tr>\n",
       "      <th>4</th>\n",
       "      <td>Desjardins</td>\n",
       "      <td>VNII</td>\n",
       "      <td>16</td>\n",
       "    </tr>\n",
       "  </tbody>\n",
       "</table>\n",
       "</div>"
      ],
      "text/plain": [
       "      dataset lineage  counts\n",
       "0      Ashton     VNI     668\n",
       "1  Desjardins    VNBI     122\n",
       "2  Desjardins   VNBII      64\n",
       "3  Desjardins     VNI     185\n",
       "4  Desjardins    VNII      16"
      ]
     },
     "execution_count": 12,
     "metadata": {},
     "output_type": "execute_result"
    }
   ],
   "source": [
    "metadata_fixed.groupby(['dataset', 'lineage'], observed=True).size().reset_index(name='counts')\n"
   ]
  },
  {
   "cell_type": "code",
   "execution_count": 13,
   "metadata": {},
   "outputs": [
    {
     "data": {
      "text/plain": [
       "1055"
      ]
     },
     "execution_count": 13,
     "metadata": {},
     "output_type": "execute_result"
    }
   ],
   "source": [
    "len(metadata_fixed)"
   ]
  },
  {
   "cell_type": "code",
   "execution_count": 14,
   "metadata": {},
   "outputs": [],
   "source": [
    "metadata_fixed.to_csv(metadata_fixed_path, index=False)"
   ]
  },
  {
   "cell_type": "markdown",
   "metadata": {},
   "source": [
    "Save a version with only the useful columns"
   ]
  },
  {
   "cell_type": "code",
   "execution_count": 15,
   "metadata": {},
   "outputs": [],
   "source": [
    "metadata = metadata_fixed[['sample', 'run', 'strain','lineage', 'vni_subdivision', 'dataset', 'source', 'mating_type', 'country_of_origin']]\n"
   ]
  },
  {
   "cell_type": "code",
   "execution_count": 16,
   "metadata": {},
   "outputs": [
    {
     "data": {
      "application/vnd.microsoft.datawrangler.viewer.v0+json": {
       "columns": [
        {
         "name": "index",
         "rawType": "int64",
         "type": "integer"
        },
        {
         "name": "lineage",
         "rawType": "object",
         "type": "string"
        },
        {
         "name": "source",
         "rawType": "object",
         "type": "string"
        },
        {
         "name": "mating_type",
         "rawType": "object",
         "type": "unknown"
        },
        {
         "name": "counts",
         "rawType": "int64",
         "type": "integer"
        }
       ],
       "conversionMethod": "pd.DataFrame",
       "ref": "4cb1f4c4-e621-4e68-96e1-b0ab2b423ce4",
       "rows": [
        [
         "0",
         "VNBI",
         "Clinical",
         "a",
         "16"
        ],
        [
         "1",
         "VNBI",
         "Clinical",
         "α",
         "34"
        ],
        [
         "2",
         "VNBI",
         "Clinical",
         null,
         "1"
        ],
        [
         "3",
         "VNBI",
         "Environmental",
         "a",
         "17"
        ],
        [
         "4",
         "VNBI",
         "Environmental",
         "α",
         "54"
        ],
        [
         "5",
         "VNBII",
         "Clinical",
         "a",
         "9"
        ],
        [
         "6",
         "VNBII",
         "Clinical",
         "α",
         "52"
        ],
        [
         "7",
         "VNBII",
         "Environmental",
         "α",
         "3"
        ],
        [
         "8",
         "VNI",
         "Clinical",
         "a",
         "2"
        ],
        [
         "9",
         "VNI",
         "Clinical",
         "α",
         "158"
        ],
        [
         "10",
         "VNI",
         "Clinical",
         null,
         "665"
        ],
        [
         "11",
         "VNI",
         "Environmental",
         "a",
         "1"
        ],
        [
         "12",
         "VNI",
         "Environmental",
         "α",
         "24"
        ],
        [
         "13",
         "VNI",
         "Environmental",
         null,
         "3"
        ],
        [
         "14",
         "VNII",
         "Clinical",
         "α",
         "15"
        ],
        [
         "15",
         "VNII",
         "Environmental",
         "α",
         "1"
        ]
       ],
       "shape": {
        "columns": 4,
        "rows": 16
       }
      },
      "text/html": [
       "<div>\n",
       "<style scoped>\n",
       "    .dataframe tbody tr th:only-of-type {\n",
       "        vertical-align: middle;\n",
       "    }\n",
       "\n",
       "    .dataframe tbody tr th {\n",
       "        vertical-align: top;\n",
       "    }\n",
       "\n",
       "    .dataframe thead th {\n",
       "        text-align: right;\n",
       "    }\n",
       "</style>\n",
       "<table border=\"1\" class=\"dataframe\">\n",
       "  <thead>\n",
       "    <tr style=\"text-align: right;\">\n",
       "      <th></th>\n",
       "      <th>lineage</th>\n",
       "      <th>source</th>\n",
       "      <th>mating_type</th>\n",
       "      <th>counts</th>\n",
       "    </tr>\n",
       "  </thead>\n",
       "  <tbody>\n",
       "    <tr>\n",
       "      <th>0</th>\n",
       "      <td>VNBI</td>\n",
       "      <td>Clinical</td>\n",
       "      <td>a</td>\n",
       "      <td>16</td>\n",
       "    </tr>\n",
       "    <tr>\n",
       "      <th>1</th>\n",
       "      <td>VNBI</td>\n",
       "      <td>Clinical</td>\n",
       "      <td>α</td>\n",
       "      <td>34</td>\n",
       "    </tr>\n",
       "    <tr>\n",
       "      <th>2</th>\n",
       "      <td>VNBI</td>\n",
       "      <td>Clinical</td>\n",
       "      <td>NaN</td>\n",
       "      <td>1</td>\n",
       "    </tr>\n",
       "    <tr>\n",
       "      <th>3</th>\n",
       "      <td>VNBI</td>\n",
       "      <td>Environmental</td>\n",
       "      <td>a</td>\n",
       "      <td>17</td>\n",
       "    </tr>\n",
       "    <tr>\n",
       "      <th>4</th>\n",
       "      <td>VNBI</td>\n",
       "      <td>Environmental</td>\n",
       "      <td>α</td>\n",
       "      <td>54</td>\n",
       "    </tr>\n",
       "    <tr>\n",
       "      <th>5</th>\n",
       "      <td>VNBII</td>\n",
       "      <td>Clinical</td>\n",
       "      <td>a</td>\n",
       "      <td>9</td>\n",
       "    </tr>\n",
       "    <tr>\n",
       "      <th>6</th>\n",
       "      <td>VNBII</td>\n",
       "      <td>Clinical</td>\n",
       "      <td>α</td>\n",
       "      <td>52</td>\n",
       "    </tr>\n",
       "    <tr>\n",
       "      <th>7</th>\n",
       "      <td>VNBII</td>\n",
       "      <td>Environmental</td>\n",
       "      <td>α</td>\n",
       "      <td>3</td>\n",
       "    </tr>\n",
       "    <tr>\n",
       "      <th>8</th>\n",
       "      <td>VNI</td>\n",
       "      <td>Clinical</td>\n",
       "      <td>a</td>\n",
       "      <td>2</td>\n",
       "    </tr>\n",
       "    <tr>\n",
       "      <th>9</th>\n",
       "      <td>VNI</td>\n",
       "      <td>Clinical</td>\n",
       "      <td>α</td>\n",
       "      <td>158</td>\n",
       "    </tr>\n",
       "    <tr>\n",
       "      <th>10</th>\n",
       "      <td>VNI</td>\n",
       "      <td>Clinical</td>\n",
       "      <td>NaN</td>\n",
       "      <td>665</td>\n",
       "    </tr>\n",
       "    <tr>\n",
       "      <th>11</th>\n",
       "      <td>VNI</td>\n",
       "      <td>Environmental</td>\n",
       "      <td>a</td>\n",
       "      <td>1</td>\n",
       "    </tr>\n",
       "    <tr>\n",
       "      <th>12</th>\n",
       "      <td>VNI</td>\n",
       "      <td>Environmental</td>\n",
       "      <td>α</td>\n",
       "      <td>24</td>\n",
       "    </tr>\n",
       "    <tr>\n",
       "      <th>13</th>\n",
       "      <td>VNI</td>\n",
       "      <td>Environmental</td>\n",
       "      <td>NaN</td>\n",
       "      <td>3</td>\n",
       "    </tr>\n",
       "    <tr>\n",
       "      <th>14</th>\n",
       "      <td>VNII</td>\n",
       "      <td>Clinical</td>\n",
       "      <td>α</td>\n",
       "      <td>15</td>\n",
       "    </tr>\n",
       "    <tr>\n",
       "      <th>15</th>\n",
       "      <td>VNII</td>\n",
       "      <td>Environmental</td>\n",
       "      <td>α</td>\n",
       "      <td>1</td>\n",
       "    </tr>\n",
       "  </tbody>\n",
       "</table>\n",
       "</div>"
      ],
      "text/plain": [
       "   lineage         source mating_type  counts\n",
       "0     VNBI       Clinical           a      16\n",
       "1     VNBI       Clinical           α      34\n",
       "2     VNBI       Clinical         NaN       1\n",
       "3     VNBI  Environmental           a      17\n",
       "4     VNBI  Environmental           α      54\n",
       "5    VNBII       Clinical           a       9\n",
       "6    VNBII       Clinical           α      52\n",
       "7    VNBII  Environmental           α       3\n",
       "8      VNI       Clinical           a       2\n",
       "9      VNI       Clinical           α     158\n",
       "10     VNI       Clinical         NaN     665\n",
       "11     VNI  Environmental           a       1\n",
       "12     VNI  Environmental           α      24\n",
       "13     VNI  Environmental         NaN       3\n",
       "14    VNII       Clinical           α      15\n",
       "15    VNII  Environmental           α       1"
      ]
     },
     "execution_count": 16,
     "metadata": {},
     "output_type": "execute_result"
    }
   ],
   "source": [
    "metadata.groupby(['lineage', 'source', 'mating_type'], observed=True, dropna=False).size().reset_index(name='counts')\n"
   ]
  },
  {
   "cell_type": "code",
   "execution_count": 17,
   "metadata": {},
   "outputs": [
    {
     "data": {
      "application/vnd.microsoft.datawrangler.viewer.v0+json": {
       "columns": [
        {
         "name": "index",
         "rawType": "int64",
         "type": "integer"
        },
        {
         "name": "sample",
         "rawType": "object",
         "type": "string"
        },
        {
         "name": "run",
         "rawType": "object",
         "type": "string"
        },
        {
         "name": "strain",
         "rawType": "object",
         "type": "string"
        },
        {
         "name": "lineage",
         "rawType": "object",
         "type": "string"
        },
        {
         "name": "vni_subdivision",
         "rawType": "object",
         "type": "unknown"
        },
        {
         "name": "dataset",
         "rawType": "object",
         "type": "string"
        },
        {
         "name": "source",
         "rawType": "object",
         "type": "string"
        },
        {
         "name": "mating_type",
         "rawType": "object",
         "type": "unknown"
        },
        {
         "name": "country_of_origin",
         "rawType": "object",
         "type": "string"
        }
       ],
       "conversionMethod": "pd.DataFrame",
       "ref": "3d0cfd1e-86b5-46ec-a94c-fdedd7a1807e",
       "rows": [
        [
         "396",
         "ERS1142739",
         "ERR1671640",
         "20427_2#42",
         "VNI",
         "VNIa-32",
         "Ashton",
         "Clinical",
         null,
         "Vietnam"
        ],
        [
         "410",
         "ERS2540972",
         "ERR2624485",
         "04CN-64-065",
         "VNI",
         "VNIa-32",
         "Ashton",
         "Clinical",
         null,
         "Uganda"
        ],
        [
         "409",
         "ERS2541156",
         "ERR2624113",
         "BMD915",
         "VNI",
         "VNIa-32",
         "Ashton",
         "Clinical",
         null,
         "Vietnam"
        ],
        [
         "408",
         "ERS542302",
         "ERR842482",
         "14892_1#7",
         "VNI",
         "VNIa-32",
         "Ashton",
         "Clinical",
         null,
         "Vietnam"
        ],
        [
         "407",
         "ERS2541105",
         "ERR2624207",
         "BMD942",
         "VNI",
         "VNIa-32",
         "Ashton",
         "Clinical",
         null,
         "Vietnam"
        ],
        [
         "406",
         "ERS2541198",
         "ERR2624299",
         "BMD2801",
         "VNI",
         "VNIa-32",
         "Ashton",
         "Clinical",
         null,
         "Vietnam"
        ],
        [
         "259",
         "SRS404807",
         "SRR798275",
         "Bt28",
         "VNI",
         "VNIa-32",
         "Desjardins",
         "Clinical",
         "α",
         "Botswana"
        ],
        [
         "114",
         "SRS881208",
         "SRR1926080",
         "PMHc1018.ENR",
         "VNI",
         "VNIa-32",
         "Desjardins",
         "Clinical",
         "α",
         "Botswana"
        ],
        [
         "405",
         "ERS542396",
         "ERR842637",
         "14936_1#5",
         "VNI",
         "VNIa-32",
         "Ashton",
         "Clinical",
         null,
         "Vietnam"
        ],
        [
         "404",
         "ERS2541226",
         "ERR2624365",
         "04CN-03-042",
         "VNI",
         "VNIa-32",
         "Ashton",
         "Clinical",
         null,
         "Vietnam"
        ],
        [
         "403",
         "ERS2541192",
         "ERR2624246",
         "BMD2216",
         "VNI",
         "VNIa-32",
         "Ashton",
         "Clinical",
         null,
         "Vietnam"
        ],
        [
         "350",
         "SRS417642",
         "SRR836892",
         "In2632",
         "VNI",
         "VNIa-32",
         "Desjardins",
         "Clinical",
         "α",
         "India"
        ],
        [
         "401",
         "ERS1142728",
         "ERR1671631",
         "20427_2#33",
         "VNI",
         "VNIa-32",
         "Ashton",
         "Clinical",
         null,
         "Vietnam"
        ],
        [
         "400",
         "ERS542317",
         "ERR842495",
         "14892_1#22",
         "VNI",
         "VNIa-32",
         "Ashton",
         "Clinical",
         null,
         "Vietnam"
        ],
        [
         "399",
         "ERS1142780",
         "ERR1756549",
         "20949_2#16",
         "VNI",
         "VNIa-32",
         "Ashton",
         "Clinical",
         null,
         "Vietnam"
        ],
        [
         "402",
         "ERS1142727",
         "ERR1671630",
         "20427_2#32",
         "VNI",
         "VNIa-32",
         "Ashton",
         "Clinical",
         null,
         "Vietnam"
        ],
        [
         "270",
         "SRS405110",
         "SRR798960",
         "C27",
         "VNI",
         "VNIa-32",
         "Desjardins",
         "Clinical",
         "α",
         "USA"
        ],
        [
         "387",
         "ERS542448",
         "ERR842672",
         "14936_1#57",
         "VNI",
         "VNIa-32",
         "Ashton",
         "Clinical",
         null,
         "Vietnam"
        ],
        [
         "388",
         "ERS2540945",
         "ERR2624432",
         "04CN-65-072",
         "VNI",
         "VNIa-32",
         "Ashton",
         "Clinical",
         null,
         "Uganda"
        ],
        [
         "398",
         "ERS1142700",
         "ERR1671607",
         "20427_2#9",
         "VNI",
         "VNIa-32",
         "Ashton",
         "Clinical",
         null,
         "Vietnam"
        ],
        [
         "282",
         "SRS405126",
         "SRR798738",
         "A4-34-6",
         "VNI",
         "VNIa-32",
         "Desjardins",
         "Environmental",
         "α",
         "USA"
        ],
        [
         "389",
         "ERS2541049",
         "ERR2624145",
         "04CN-65-161",
         "VNI",
         "VNIa-32",
         "Ashton",
         "Clinical",
         null,
         "Uganda"
        ],
        [
         "390",
         "ERS2541305",
         "ERR2624319",
         "04CN-63-036",
         "VNI",
         "VNIa-32",
         "Ashton",
         "Clinical",
         null,
         "Malawi"
        ],
        [
         "206",
         "SRS404503",
         "SRR797785",
         "Bt107",
         "VNI",
         "VNIa-32",
         "Desjardins",
         "Clinical",
         "α",
         "Botswana"
        ],
        [
         "392",
         "ERS2540955",
         "ERR2624249",
         "04CN-63-019",
         "VNI",
         "VNIa-32",
         "Ashton",
         "Clinical",
         null,
         "Malawi"
        ],
        [
         "393",
         "ERS542374",
         "ERR842541",
         "14892_1#78",
         "VNI",
         "VNIa-32",
         "Ashton",
         "Clinical",
         null,
         "Vietnam"
        ],
        [
         "394",
         "ERS1142696",
         "ERR1671603",
         "20427_2#5",
         "VNI",
         "VNIa-32",
         "Ashton",
         "Clinical",
         null,
         "Vietnam"
        ],
        [
         "395",
         "ERS542488",
         "ERR842558",
         "14893_1#2",
         "VNI",
         "VNIa-32",
         "Ashton",
         "Clinical",
         null,
         "Vietnam"
        ],
        [
         "397",
         "ERS1142714",
         "ERR1671618",
         "20427_2#20",
         "VNI",
         "VNIa-32",
         "Ashton",
         "Clinical",
         null,
         "Vietnam"
        ],
        [
         "391",
         "ERS1142749",
         "ERR1671650",
         "20427_2#52",
         "VNI",
         "VNIa-32",
         "Ashton",
         "Clinical",
         null,
         "Vietnam"
        ],
        [
         "517",
         "ERS542459",
         "ERR842680",
         "14936_1#68",
         "VNI",
         "VNIa-4",
         "Ashton",
         "Clinical",
         null,
         "Vietnam"
        ],
        [
         "518",
         "ERS542325",
         "ERR842477",
         "14892_1#1",
         "VNI",
         "VNIa-4",
         "Ashton",
         "Clinical",
         null,
         "Vietnam"
        ],
        [
         "519",
         "ERS542312",
         "ERR842491",
         "14892_1#17",
         "VNI",
         "VNIa-4",
         "Ashton",
         "Clinical",
         null,
         "Vietnam"
        ],
        [
         "520",
         "ERS1142797",
         "ERR1671686",
         "20427_3#16",
         "VNI",
         "VNIa-4",
         "Ashton",
         "Clinical",
         null,
         "Vietnam"
        ],
        [
         "521",
         "ERS1142719",
         "ERR1671622",
         "20427_2#24",
         "VNI",
         "VNIa-4",
         "Ashton",
         "Clinical",
         null,
         "Vietnam"
        ],
        [
         "522",
         "ERS542344",
         "ERR842514",
         "14892_1#48",
         "VNI",
         "VNIa-4",
         "Ashton",
         "Clinical",
         null,
         "Vietnam"
        ],
        [
         "523",
         "ERS1142794",
         "ERR1671684",
         "20427_3#14",
         "VNI",
         "VNIa-4",
         "Ashton",
         "Clinical",
         null,
         "Vietnam"
        ],
        [
         "524",
         "ERS1142720",
         "ERR1671623",
         "20427_2#25",
         "VNI",
         "VNIa-4",
         "Ashton",
         "Clinical",
         null,
         "Vietnam"
        ],
        [
         "525",
         "ERS1142721",
         "ERR1671624",
         "20427_2#26",
         "VNI",
         "VNIa-4",
         "Ashton",
         "Clinical",
         null,
         "Vietnam"
        ],
        [
         "526",
         "ERS2541396",
         "ERR2624243",
         "CNS_1156",
         "VNI",
         "VNIa-4",
         "Ashton",
         "Clinical",
         null,
         "Laos"
        ],
        [
         "529",
         "ERS542445",
         "ERR842670",
         "14936_1#54",
         "VNI",
         "VNIa-4",
         "Ashton",
         "Clinical",
         null,
         "Vietnam"
        ],
        [
         "528",
         "ERS1142790",
         "ERR1671681",
         "20427_3#11",
         "VNI",
         "VNIa-4",
         "Ashton",
         "Clinical",
         null,
         "Vietnam"
        ],
        [
         "548",
         "ERS1142813",
         "ERR1756560",
         "20949_2#27",
         "VNI",
         "VNIa-4",
         "Ashton",
         "Clinical",
         null,
         "Vietnam"
        ],
        [
         "550",
         "ERS542471",
         "ERR842691",
         "14936_1#80",
         "VNI",
         "VNIa-4",
         "Ashton",
         "Clinical",
         null,
         "Vietnam"
        ],
        [
         "551",
         "ERS542470",
         "ERR842690",
         "14936_1#79",
         "VNI",
         "VNIa-4",
         "Ashton",
         "Clinical",
         null,
         "Vietnam"
        ],
        [
         "552",
         "ERS1142806",
         "ERR1671690",
         "20427_3#20",
         "VNI",
         "VNIa-4",
         "Ashton",
         "Clinical",
         null,
         "Vietnam"
        ],
        [
         "553",
         "ERS2541395",
         "ERR2624200",
         "CNS_1179",
         "VNI",
         "VNIa-4",
         "Ashton",
         "Clinical",
         null,
         "Laos"
        ],
        [
         "554",
         "ERS2541114",
         "ERR2624503",
         "BMD2973",
         "VNI",
         "VNIa-4",
         "Ashton",
         "Clinical",
         null,
         "Vietnam"
        ],
        [
         "555",
         "ERS2541300",
         "ERR2624410",
         "04CN-32-043",
         "VNI",
         "VNIa-4",
         "Ashton",
         "Clinical",
         null,
         "Thailand"
        ],
        [
         "556",
         "ERS2541312",
         "ERR2624178",
         "04CN-32-011",
         "VNI",
         "VNIa-4",
         "Ashton",
         "Clinical",
         null,
         "Thailand"
        ]
       ],
       "shape": {
        "columns": 9,
        "rows": 1055
       }
      },
      "text/html": [
       "<div>\n",
       "<style scoped>\n",
       "    .dataframe tbody tr th:only-of-type {\n",
       "        vertical-align: middle;\n",
       "    }\n",
       "\n",
       "    .dataframe tbody tr th {\n",
       "        vertical-align: top;\n",
       "    }\n",
       "\n",
       "    .dataframe thead th {\n",
       "        text-align: right;\n",
       "    }\n",
       "</style>\n",
       "<table border=\"1\" class=\"dataframe\">\n",
       "  <thead>\n",
       "    <tr style=\"text-align: right;\">\n",
       "      <th></th>\n",
       "      <th>sample</th>\n",
       "      <th>run</th>\n",
       "      <th>strain</th>\n",
       "      <th>lineage</th>\n",
       "      <th>vni_subdivision</th>\n",
       "      <th>dataset</th>\n",
       "      <th>source</th>\n",
       "      <th>mating_type</th>\n",
       "      <th>country_of_origin</th>\n",
       "    </tr>\n",
       "  </thead>\n",
       "  <tbody>\n",
       "    <tr>\n",
       "      <th>396</th>\n",
       "      <td>ERS1142739</td>\n",
       "      <td>ERR1671640</td>\n",
       "      <td>20427_2#42</td>\n",
       "      <td>VNI</td>\n",
       "      <td>VNIa-32</td>\n",
       "      <td>Ashton</td>\n",
       "      <td>Clinical</td>\n",
       "      <td>NaN</td>\n",
       "      <td>Vietnam</td>\n",
       "    </tr>\n",
       "    <tr>\n",
       "      <th>410</th>\n",
       "      <td>ERS2540972</td>\n",
       "      <td>ERR2624485</td>\n",
       "      <td>04CN-64-065</td>\n",
       "      <td>VNI</td>\n",
       "      <td>VNIa-32</td>\n",
       "      <td>Ashton</td>\n",
       "      <td>Clinical</td>\n",
       "      <td>NaN</td>\n",
       "      <td>Uganda</td>\n",
       "    </tr>\n",
       "    <tr>\n",
       "      <th>409</th>\n",
       "      <td>ERS2541156</td>\n",
       "      <td>ERR2624113</td>\n",
       "      <td>BMD915</td>\n",
       "      <td>VNI</td>\n",
       "      <td>VNIa-32</td>\n",
       "      <td>Ashton</td>\n",
       "      <td>Clinical</td>\n",
       "      <td>NaN</td>\n",
       "      <td>Vietnam</td>\n",
       "    </tr>\n",
       "    <tr>\n",
       "      <th>408</th>\n",
       "      <td>ERS542302</td>\n",
       "      <td>ERR842482</td>\n",
       "      <td>14892_1#7</td>\n",
       "      <td>VNI</td>\n",
       "      <td>VNIa-32</td>\n",
       "      <td>Ashton</td>\n",
       "      <td>Clinical</td>\n",
       "      <td>NaN</td>\n",
       "      <td>Vietnam</td>\n",
       "    </tr>\n",
       "    <tr>\n",
       "      <th>407</th>\n",
       "      <td>ERS2541105</td>\n",
       "      <td>ERR2624207</td>\n",
       "      <td>BMD942</td>\n",
       "      <td>VNI</td>\n",
       "      <td>VNIa-32</td>\n",
       "      <td>Ashton</td>\n",
       "      <td>Clinical</td>\n",
       "      <td>NaN</td>\n",
       "      <td>Vietnam</td>\n",
       "    </tr>\n",
       "    <tr>\n",
       "      <th>...</th>\n",
       "      <td>...</td>\n",
       "      <td>...</td>\n",
       "      <td>...</td>\n",
       "      <td>...</td>\n",
       "      <td>...</td>\n",
       "      <td>...</td>\n",
       "      <td>...</td>\n",
       "      <td>...</td>\n",
       "      <td>...</td>\n",
       "    </tr>\n",
       "    <tr>\n",
       "      <th>376</th>\n",
       "      <td>SRS520130</td>\n",
       "      <td>SRX399940</td>\n",
       "      <td>Bt35</td>\n",
       "      <td>VNBII</td>\n",
       "      <td>NaN</td>\n",
       "      <td>Desjardins</td>\n",
       "      <td>Clinical</td>\n",
       "      <td>α</td>\n",
       "      <td>Botswana</td>\n",
       "    </tr>\n",
       "    <tr>\n",
       "      <th>379</th>\n",
       "      <td>SRS520177</td>\n",
       "      <td>SRX400063, SRX400064</td>\n",
       "      <td>MW-RSA1327</td>\n",
       "      <td>VNII</td>\n",
       "      <td>NaN</td>\n",
       "      <td>Desjardins</td>\n",
       "      <td>Clinical</td>\n",
       "      <td>α</td>\n",
       "      <td>S. Africa</td>\n",
       "    </tr>\n",
       "    <tr>\n",
       "      <th>381</th>\n",
       "      <td>SRS520179</td>\n",
       "      <td>SRX400068, SRX400067</td>\n",
       "      <td>MW-RSA3956</td>\n",
       "      <td>VNII</td>\n",
       "      <td>NaN</td>\n",
       "      <td>Desjardins</td>\n",
       "      <td>Clinical</td>\n",
       "      <td>α</td>\n",
       "      <td>S. Africa</td>\n",
       "    </tr>\n",
       "    <tr>\n",
       "      <th>383</th>\n",
       "      <td>SRS520181</td>\n",
       "      <td>SRX400073, SRX400071, SRX400072</td>\n",
       "      <td>MW-RSA913</td>\n",
       "      <td>VNBII</td>\n",
       "      <td>NaN</td>\n",
       "      <td>Desjardins</td>\n",
       "      <td>Clinical</td>\n",
       "      <td>α</td>\n",
       "      <td>S. Africa</td>\n",
       "    </tr>\n",
       "    <tr>\n",
       "      <th>384</th>\n",
       "      <td>SRS520182</td>\n",
       "      <td>SRX400075, SRX400076</td>\n",
       "      <td>WM626</td>\n",
       "      <td>VNII</td>\n",
       "      <td>NaN</td>\n",
       "      <td>Desjardins</td>\n",
       "      <td>Clinical</td>\n",
       "      <td>α</td>\n",
       "      <td>Australia</td>\n",
       "    </tr>\n",
       "  </tbody>\n",
       "</table>\n",
       "<p>1055 rows × 9 columns</p>\n",
       "</div>"
      ],
      "text/plain": [
       "         sample                              run       strain lineage  \\\n",
       "396  ERS1142739                       ERR1671640   20427_2#42     VNI   \n",
       "410  ERS2540972                       ERR2624485  04CN-64-065     VNI   \n",
       "409  ERS2541156                       ERR2624113       BMD915     VNI   \n",
       "408   ERS542302                        ERR842482    14892_1#7     VNI   \n",
       "407  ERS2541105                       ERR2624207       BMD942     VNI   \n",
       "..          ...                              ...          ...     ...   \n",
       "376   SRS520130                        SRX399940         Bt35   VNBII   \n",
       "379   SRS520177             SRX400063, SRX400064   MW-RSA1327    VNII   \n",
       "381   SRS520179             SRX400068, SRX400067   MW-RSA3956    VNII   \n",
       "383   SRS520181  SRX400073, SRX400071, SRX400072    MW-RSA913   VNBII   \n",
       "384   SRS520182             SRX400075, SRX400076        WM626    VNII   \n",
       "\n",
       "    vni_subdivision     dataset    source mating_type country_of_origin  \n",
       "396         VNIa-32      Ashton  Clinical         NaN           Vietnam  \n",
       "410         VNIa-32      Ashton  Clinical         NaN            Uganda  \n",
       "409         VNIa-32      Ashton  Clinical         NaN           Vietnam  \n",
       "408         VNIa-32      Ashton  Clinical         NaN           Vietnam  \n",
       "407         VNIa-32      Ashton  Clinical         NaN           Vietnam  \n",
       "..              ...         ...       ...         ...               ...  \n",
       "376             NaN  Desjardins  Clinical           α          Botswana  \n",
       "379             NaN  Desjardins  Clinical           α         S. Africa  \n",
       "381             NaN  Desjardins  Clinical           α         S. Africa  \n",
       "383             NaN  Desjardins  Clinical           α         S. Africa  \n",
       "384             NaN  Desjardins  Clinical           α         Australia  \n",
       "\n",
       "[1055 rows x 9 columns]"
      ]
     },
     "execution_count": 17,
     "metadata": {},
     "output_type": "execute_result"
    }
   ],
   "source": [
    "metadata"
   ]
  },
  {
   "cell_type": "markdown",
   "metadata": {},
   "source": [
    "Add H99 GCF_000149245"
   ]
  },
  {
   "cell_type": "code",
   "execution_count": 18,
   "metadata": {},
   "outputs": [],
   "source": [
    "H99 = {'sample': 'GCF_000149245', 'run': 'GCF_000149245', 'strain': 'H99', 'lineage': 'VNI', 'vni_subdivision': 'VNIb', 'dataset': 'Reference', 'source': 'Clinical', 'mating_type': 'α', 'country_of_origin': 'USA'}"
   ]
  },
  {
   "cell_type": "code",
   "execution_count": 19,
   "metadata": {},
   "outputs": [
    {
     "data": {
      "application/vnd.microsoft.datawrangler.viewer.v0+json": {
       "columns": [
        {
         "name": "index",
         "rawType": "int64",
         "type": "integer"
        },
        {
         "name": "dataset",
         "rawType": "object",
         "type": "string"
        },
        {
         "name": "lineage",
         "rawType": "object",
         "type": "string"
        },
        {
         "name": "counts",
         "rawType": "int64",
         "type": "integer"
        }
       ],
       "conversionMethod": "pd.DataFrame",
       "ref": "23d60eb8-9bce-4ac3-a127-809431f5bd2f",
       "rows": [
        [
         "0",
         "Ashton",
         "VNI",
         "668"
        ],
        [
         "1",
         "Desjardins",
         "VNBI",
         "122"
        ],
        [
         "2",
         "Desjardins",
         "VNBII",
         "64"
        ],
        [
         "3",
         "Desjardins",
         "VNI",
         "185"
        ],
        [
         "4",
         "Desjardins",
         "VNII",
         "16"
        ],
        [
         "5",
         "Reference",
         "VNI",
         "1"
        ]
       ],
       "shape": {
        "columns": 3,
        "rows": 6
       }
      },
      "text/html": [
       "<div>\n",
       "<style scoped>\n",
       "    .dataframe tbody tr th:only-of-type {\n",
       "        vertical-align: middle;\n",
       "    }\n",
       "\n",
       "    .dataframe tbody tr th {\n",
       "        vertical-align: top;\n",
       "    }\n",
       "\n",
       "    .dataframe thead th {\n",
       "        text-align: right;\n",
       "    }\n",
       "</style>\n",
       "<table border=\"1\" class=\"dataframe\">\n",
       "  <thead>\n",
       "    <tr style=\"text-align: right;\">\n",
       "      <th></th>\n",
       "      <th>dataset</th>\n",
       "      <th>lineage</th>\n",
       "      <th>counts</th>\n",
       "    </tr>\n",
       "  </thead>\n",
       "  <tbody>\n",
       "    <tr>\n",
       "      <th>0</th>\n",
       "      <td>Ashton</td>\n",
       "      <td>VNI</td>\n",
       "      <td>668</td>\n",
       "    </tr>\n",
       "    <tr>\n",
       "      <th>1</th>\n",
       "      <td>Desjardins</td>\n",
       "      <td>VNBI</td>\n",
       "      <td>122</td>\n",
       "    </tr>\n",
       "    <tr>\n",
       "      <th>2</th>\n",
       "      <td>Desjardins</td>\n",
       "      <td>VNBII</td>\n",
       "      <td>64</td>\n",
       "    </tr>\n",
       "    <tr>\n",
       "      <th>3</th>\n",
       "      <td>Desjardins</td>\n",
       "      <td>VNI</td>\n",
       "      <td>185</td>\n",
       "    </tr>\n",
       "    <tr>\n",
       "      <th>4</th>\n",
       "      <td>Desjardins</td>\n",
       "      <td>VNII</td>\n",
       "      <td>16</td>\n",
       "    </tr>\n",
       "    <tr>\n",
       "      <th>5</th>\n",
       "      <td>Reference</td>\n",
       "      <td>VNI</td>\n",
       "      <td>1</td>\n",
       "    </tr>\n",
       "  </tbody>\n",
       "</table>\n",
       "</div>"
      ],
      "text/plain": [
       "      dataset lineage  counts\n",
       "0      Ashton     VNI     668\n",
       "1  Desjardins    VNBI     122\n",
       "2  Desjardins   VNBII      64\n",
       "3  Desjardins     VNI     185\n",
       "4  Desjardins    VNII      16\n",
       "5   Reference     VNI       1"
      ]
     },
     "execution_count": 19,
     "metadata": {},
     "output_type": "execute_result"
    }
   ],
   "source": [
    "metadata = pd.concat([metadata, pd.DataFrame([H99])], ignore_index=True)\n",
    "metadata.groupby(['dataset', 'lineage'], observed=True).size().reset_index(name='counts')\n"
   ]
  },
  {
   "cell_type": "code",
   "execution_count": 20,
   "metadata": {},
   "outputs": [],
   "source": [
    "metadata.to_csv(metadata_all_H99_path, index=False)"
   ]
  },
  {
   "cell_type": "code",
   "execution_count": 21,
   "metadata": {},
   "outputs": [],
   "source": [
    "metadata_ashton_desj_vni_weavepop = metadata[(metadata['dataset'] != 'Reference') & (metadata['lineage'] == 'VNI')]\n",
    "metadata_ashton_desj_vni_weavepop.groupby(['dataset', 'lineage'], observed=True).size().reset_index(name='counts')\n",
    "metadata_ashton_desj_vni_weavepop.to_csv(metadata_vni_path, index=False)"
   ]
  },
  {
   "cell_type": "code",
   "execution_count": 22,
   "metadata": {},
   "outputs": [
    {
     "data": {
      "application/vnd.microsoft.datawrangler.viewer.v0+json": {
       "columns": [
        {
         "name": "index",
         "rawType": "int64",
         "type": "integer"
        },
        {
         "name": "dataset",
         "rawType": "object",
         "type": "string"
        },
        {
         "name": "lineage",
         "rawType": "object",
         "type": "string"
        },
        {
         "name": "counts",
         "rawType": "int64",
         "type": "integer"
        }
       ],
       "conversionMethod": "pd.DataFrame",
       "ref": "e7170266-c85a-4123-b637-e3155fcc80b2",
       "rows": [
        [
         "0",
         "Ashton",
         "VNI",
         "668"
        ],
        [
         "1",
         "Desjardins",
         "VNI",
         "185"
        ]
       ],
       "shape": {
        "columns": 3,
        "rows": 2
       }
      },
      "text/html": [
       "<div>\n",
       "<style scoped>\n",
       "    .dataframe tbody tr th:only-of-type {\n",
       "        vertical-align: middle;\n",
       "    }\n",
       "\n",
       "    .dataframe tbody tr th {\n",
       "        vertical-align: top;\n",
       "    }\n",
       "\n",
       "    .dataframe thead th {\n",
       "        text-align: right;\n",
       "    }\n",
       "</style>\n",
       "<table border=\"1\" class=\"dataframe\">\n",
       "  <thead>\n",
       "    <tr style=\"text-align: right;\">\n",
       "      <th></th>\n",
       "      <th>dataset</th>\n",
       "      <th>lineage</th>\n",
       "      <th>counts</th>\n",
       "    </tr>\n",
       "  </thead>\n",
       "  <tbody>\n",
       "    <tr>\n",
       "      <th>0</th>\n",
       "      <td>Ashton</td>\n",
       "      <td>VNI</td>\n",
       "      <td>668</td>\n",
       "    </tr>\n",
       "    <tr>\n",
       "      <th>1</th>\n",
       "      <td>Desjardins</td>\n",
       "      <td>VNI</td>\n",
       "      <td>185</td>\n",
       "    </tr>\n",
       "  </tbody>\n",
       "</table>\n",
       "</div>"
      ],
      "text/plain": [
       "      dataset lineage  counts\n",
       "0      Ashton     VNI     668\n",
       "1  Desjardins     VNI     185"
      ]
     },
     "execution_count": 22,
     "metadata": {},
     "output_type": "execute_result"
    }
   ],
   "source": [
    "metadata_ashton_desj_vni_weavepop.groupby(['dataset', 'lineage'], observed=True).size().reset_index(name='counts')\n"
   ]
  }
 ],
 "metadata": {
  "kernelspec": {
   "display_name": "widgets_2",
   "language": "python",
   "name": "python3"
  },
  "language_info": {
   "codemirror_mode": {
    "name": "ipython",
    "version": 3
   },
   "file_extension": ".py",
   "mimetype": "text/x-python",
   "name": "python",
   "nbconvert_exporter": "python",
   "pygments_lexer": "ipython3",
   "version": "3.12.3"
  }
 },
 "nbformat": 4,
 "nbformat_minor": 2
}
