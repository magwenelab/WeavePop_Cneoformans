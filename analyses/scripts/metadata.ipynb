{
 "cells": [
  {
   "cell_type": "markdown",
   "metadata": {},
   "source": [
    "Libraries"
   ]
  },
  {
   "cell_type": "code",
   "execution_count": 1,
   "metadata": {},
   "outputs": [],
   "source": [
    "import pandas as pd\n",
    "import os"
   ]
  },
  {
   "cell_type": "markdown",
   "metadata": {},
   "source": [
    "Paths"
   ]
  },
  {
   "cell_type": "code",
   "execution_count": 2,
   "metadata": {},
   "outputs": [],
   "source": [
    "os.chdir(\"/FastData/czirion/WeavePop_Cneoformans/\")"
   ]
  },
  {
   "cell_type": "code",
   "execution_count": 3,
   "metadata": {},
   "outputs": [],
   "source": [
    "# Input\n",
    "metadata_weavepop_joined_path = \"Crypto_Desjardins_Ashton/results/02.Dataset/metadata.csv\"\n",
    "metadata_from_ashton_path = \"Crypto_Ashton/config/metadata_all_ashton_and_vni_desj.csv\"\n",
    "#Output\n",
    "metadata_fixed_path =  \"analyses/data/processed/metadata_ashton_desj_all_weavepop_complete_info.csv\"\n",
    "metadata_all_H99_path = \"analyses/data/processed/metadata_ashton_desj_all_weavepop_H99.csv\"\n",
    "metadata_vni_path = \"analyses/data/processed/metadata_ashton_desj_vni_weavepop.csv\""
   ]
  },
  {
   "cell_type": "markdown",
   "metadata": {},
   "source": [
    "Get metadata of both Desjardins and Ashton datasets from the WeavePop joined analysis."
   ]
  },
  {
   "cell_type": "code",
   "execution_count": 4,
   "metadata": {},
   "outputs": [],
   "source": [
    "metadata_weavepop_joined = pd.read_csv(metadata_weavepop_joined_path, header=0)"
   ]
  },
  {
   "cell_type": "markdown",
   "metadata": {},
   "source": [
    "Homogenize some values"
   ]
  },
  {
   "cell_type": "code",
   "execution_count": 5,
   "metadata": {},
   "outputs": [],
   "source": [
    "metadata_weavepop_joined['source'] = metadata_weavepop_joined['source'].replace('Environment', 'Environmental')\n",
    "metadata_weavepop_joined['country_of_origin'] = metadata_weavepop_joined['country_of_origin'].str.strip()"
   ]
  },
  {
   "cell_type": "markdown",
   "metadata": {},
   "source": [
    "Get the metadata from the Ashton paper and drop the columns that are already in the other metadata."
   ]
  },
  {
   "cell_type": "code",
   "execution_count": 6,
   "metadata": {},
   "outputs": [],
   "source": [
    "metadata_from_ashton = pd.read_csv(metadata_from_ashton_path, header=0)\n",
    "metadata_from_ashton.columns = metadata_from_ashton.columns.str.lower().str.replace(' ', '_')\n",
    "metadata_from_ashton.drop(columns=['country_of_origin', 'species_id_from_mash_anlaysis', 'study',\n",
    "       'hiv_status', 'continent_of_origin', 'year_of_origin',\n",
    "       'mean_depth_of_mapping_with_mq_>_30_across_whole_genome',\n",
    "       'proportion_of_genome_covered_by_at_least_5_reads_which_mapped_with_mq_>_30', 'source'], inplace=True)\n"
   ]
  },
  {
   "cell_type": "markdown",
   "metadata": {},
   "source": [
    "Merge them only on the column sample keeping the sample in the WeavePop analysis."
   ]
  },
  {
   "cell_type": "code",
   "execution_count": 7,
   "metadata": {},
   "outputs": [],
   "source": [
    "metadata_fixed = metadata_weavepop_joined.merge(metadata_from_ashton, on = 'sample', how=\"left\")"
   ]
  },
  {
   "cell_type": "markdown",
   "metadata": {},
   "source": [
    "In the Desjardins samples keep the strain and lineage from the WeavePop analysis, and in the Ashton samples keep the species and lineage from the Ashton metadata."
   ]
  },
  {
   "cell_type": "code",
   "execution_count": 8,
   "metadata": {},
   "outputs": [],
   "source": [
    "metadata_fixed.loc[metadata_fixed[\"dataset\"] == \"Desjardins\", \"strain\"] = metadata_fixed[\"strain_x\"]\n",
    "metadata_fixed.loc[metadata_fixed[\"dataset\"] == \"Desjardins\", \"lineage\"] = metadata_fixed[\"lineage_x\"]\n",
    "metadata_fixed.loc[metadata_fixed[\"dataset\"] == \"Ashton\", \"strain\"] = metadata_fixed[\"strain_y\"]\n",
    "metadata_fixed.loc[metadata_fixed[\"dataset\"] == \"Ashton\", \"lineage\"] = metadata_fixed[\"lineage_y\"]"
   ]
  },
  {
   "cell_type": "markdown",
   "metadata": {},
   "source": [
    "Keep the run accessions from the Ashton metadata where available to be able to link the Desjarins samples to the Ashton tree (that includes them)."
   ]
  },
  {
   "cell_type": "code",
   "execution_count": 9,
   "metadata": {},
   "outputs": [],
   "source": [
    "metadata_fixed.loc[metadata_fixed[\"sra_accession_y\"].notna(), \"run\"] = metadata_fixed[\"sra_accession_y\"]\n",
    "metadata_fixed.loc[metadata_fixed[\"sra_accession_y\"].isna(), \"run\"] = metadata_fixed[\"sra_accession_x\"]"
   ]
  },
  {
   "cell_type": "markdown",
   "metadata": {},
   "source": [
    "Keep the vni_subdivision from the Ashton metadata"
   ]
  },
  {
   "cell_type": "code",
   "execution_count": 10,
   "metadata": {},
   "outputs": [],
   "source": [
    "metadata_fixed = metadata_fixed.rename(columns={\"vni_subdivision_y\": \"vni_subdivision\"})"
   ]
  },
  {
   "cell_type": "markdown",
   "metadata": {},
   "source": [
    "Cleanup"
   ]
  },
  {
   "cell_type": "code",
   "execution_count": 11,
   "metadata": {},
   "outputs": [],
   "source": [
    "metadata_fixed = metadata_fixed.drop(columns=[\"strain_x\", \"strain_y\", \"lineage_x\", \"lineage_y\", \"vni_subdivision_x\", \"sra_accession_x\", \"sra_accession_y\"])\n",
    "metadata_fixed = metadata_fixed[['sample', 'run', 'strain','lineage', 'vni_subdivision', 'dataset', 'source'] + [col for col in metadata_fixed.columns if col not in ['sample', 'strain','lineage','source','dataset','vni_subdivision','run'] ]]\n",
    "metadata_fixed = metadata_fixed.sort_values('vni_subdivision')"
   ]
  },
  {
   "cell_type": "code",
   "execution_count": 12,
   "metadata": {},
   "outputs": [
    {
     "data": {
      "application/vnd.microsoft.datawrangler.viewer.v0+json": {
       "columns": [
        {
         "name": "index",
         "rawType": "int64",
         "type": "integer"
        },
        {
         "name": "dataset",
         "rawType": "object",
         "type": "string"
        },
        {
         "name": "lineage",
         "rawType": "object",
         "type": "string"
        },
        {
         "name": "counts",
         "rawType": "int64",
         "type": "integer"
        }
       ],
       "conversionMethod": "pd.DataFrame",
       "ref": "c89519d9-7158-46a8-82a2-cd0e861234f1",
       "rows": [
        [
         "0",
         "Ashton",
         "VNI",
         "668"
        ],
        [
         "1",
         "Desjardins",
         "VNBI",
         "122"
        ],
        [
         "2",
         "Desjardins",
         "VNBII",
         "64"
        ],
        [
         "3",
         "Desjardins",
         "VNI",
         "185"
        ],
        [
         "4",
         "Desjardins",
         "VNII",
         "16"
        ]
       ],
       "shape": {
        "columns": 3,
        "rows": 5
       }
      },
      "text/html": [
       "<div>\n",
       "<style scoped>\n",
       "    .dataframe tbody tr th:only-of-type {\n",
       "        vertical-align: middle;\n",
       "    }\n",
       "\n",
       "    .dataframe tbody tr th {\n",
       "        vertical-align: top;\n",
       "    }\n",
       "\n",
       "    .dataframe thead th {\n",
       "        text-align: right;\n",
       "    }\n",
       "</style>\n",
       "<table border=\"1\" class=\"dataframe\">\n",
       "  <thead>\n",
       "    <tr style=\"text-align: right;\">\n",
       "      <th></th>\n",
       "      <th>dataset</th>\n",
       "      <th>lineage</th>\n",
       "      <th>counts</th>\n",
       "    </tr>\n",
       "  </thead>\n",
       "  <tbody>\n",
       "    <tr>\n",
       "      <th>0</th>\n",
       "      <td>Ashton</td>\n",
       "      <td>VNI</td>\n",
       "      <td>668</td>\n",
       "    </tr>\n",
       "    <tr>\n",
       "      <th>1</th>\n",
       "      <td>Desjardins</td>\n",
       "      <td>VNBI</td>\n",
       "      <td>122</td>\n",
       "    </tr>\n",
       "    <tr>\n",
       "      <th>2</th>\n",
       "      <td>Desjardins</td>\n",
       "      <td>VNBII</td>\n",
       "      <td>64</td>\n",
       "    </tr>\n",
       "    <tr>\n",
       "      <th>3</th>\n",
       "      <td>Desjardins</td>\n",
       "      <td>VNI</td>\n",
       "      <td>185</td>\n",
       "    </tr>\n",
       "    <tr>\n",
       "      <th>4</th>\n",
       "      <td>Desjardins</td>\n",
       "      <td>VNII</td>\n",
       "      <td>16</td>\n",
       "    </tr>\n",
       "  </tbody>\n",
       "</table>\n",
       "</div>"
      ],
      "text/plain": [
       "      dataset lineage  counts\n",
       "0      Ashton     VNI     668\n",
       "1  Desjardins    VNBI     122\n",
       "2  Desjardins   VNBII      64\n",
       "3  Desjardins     VNI     185\n",
       "4  Desjardins    VNII      16"
      ]
     },
     "execution_count": 12,
     "metadata": {},
     "output_type": "execute_result"
    }
   ],
   "source": [
    "metadata_fixed.groupby(['dataset', 'lineage'], observed=True).size().reset_index(name='counts')\n"
   ]
  },
  {
   "cell_type": "code",
   "execution_count": 13,
   "metadata": {},
   "outputs": [
    {
     "data": {
      "text/plain": [
       "1055"
      ]
     },
     "execution_count": 13,
     "metadata": {},
     "output_type": "execute_result"
    }
   ],
   "source": [
    "len(metadata_fixed)"
   ]
  },
  {
   "cell_type": "code",
   "execution_count": 14,
   "metadata": {},
   "outputs": [],
   "source": [
    "metadata_fixed.to_csv(metadata_fixed_path, index=False)"
   ]
  },
  {
   "cell_type": "markdown",
   "metadata": {},
   "source": [
    "Save a version with only the useful columns"
   ]
  },
  {
   "cell_type": "code",
   "execution_count": 15,
   "metadata": {},
   "outputs": [],
   "source": [
    "metadata = metadata_fixed[['sample', 'run', 'strain','lineage', 'vni_subdivision', 'dataset', 'source', 'mating_type', 'country_of_origin']]\n"
   ]
  },
  {
   "cell_type": "markdown",
   "metadata": {},
   "source": [
    "Add H99 GCF_000149245"
   ]
  },
  {
   "cell_type": "code",
   "execution_count": 16,
   "metadata": {},
   "outputs": [],
   "source": [
    "H99 = {'sample': 'GCF_000149245', 'run': 'GCF_000149245', 'strain': 'H99', 'lineage': 'VNI', 'vni_subdivision': 'VNIb', 'dataset': 'Reference', 'source': 'Clinical', 'mating_type': 'α', 'country_of_origin': 'USA'}"
   ]
  },
  {
   "cell_type": "code",
   "execution_count": 17,
   "metadata": {},
   "outputs": [
    {
     "data": {
      "application/vnd.microsoft.datawrangler.viewer.v0+json": {
       "columns": [
        {
         "name": "index",
         "rawType": "int64",
         "type": "integer"
        },
        {
         "name": "dataset",
         "rawType": "object",
         "type": "string"
        },
        {
         "name": "lineage",
         "rawType": "object",
         "type": "string"
        },
        {
         "name": "counts",
         "rawType": "int64",
         "type": "integer"
        }
       ],
       "conversionMethod": "pd.DataFrame",
       "ref": "3e7f608c-22c2-44fd-85be-a86f02530d60",
       "rows": [
        [
         "0",
         "Ashton",
         "VNI",
         "668"
        ],
        [
         "1",
         "Desjardins",
         "VNBI",
         "122"
        ],
        [
         "2",
         "Desjardins",
         "VNBII",
         "64"
        ],
        [
         "3",
         "Desjardins",
         "VNI",
         "185"
        ],
        [
         "4",
         "Desjardins",
         "VNII",
         "16"
        ],
        [
         "5",
         "Reference",
         "VNI",
         "1"
        ]
       ],
       "shape": {
        "columns": 3,
        "rows": 6
       }
      },
      "text/html": [
       "<div>\n",
       "<style scoped>\n",
       "    .dataframe tbody tr th:only-of-type {\n",
       "        vertical-align: middle;\n",
       "    }\n",
       "\n",
       "    .dataframe tbody tr th {\n",
       "        vertical-align: top;\n",
       "    }\n",
       "\n",
       "    .dataframe thead th {\n",
       "        text-align: right;\n",
       "    }\n",
       "</style>\n",
       "<table border=\"1\" class=\"dataframe\">\n",
       "  <thead>\n",
       "    <tr style=\"text-align: right;\">\n",
       "      <th></th>\n",
       "      <th>dataset</th>\n",
       "      <th>lineage</th>\n",
       "      <th>counts</th>\n",
       "    </tr>\n",
       "  </thead>\n",
       "  <tbody>\n",
       "    <tr>\n",
       "      <th>0</th>\n",
       "      <td>Ashton</td>\n",
       "      <td>VNI</td>\n",
       "      <td>668</td>\n",
       "    </tr>\n",
       "    <tr>\n",
       "      <th>1</th>\n",
       "      <td>Desjardins</td>\n",
       "      <td>VNBI</td>\n",
       "      <td>122</td>\n",
       "    </tr>\n",
       "    <tr>\n",
       "      <th>2</th>\n",
       "      <td>Desjardins</td>\n",
       "      <td>VNBII</td>\n",
       "      <td>64</td>\n",
       "    </tr>\n",
       "    <tr>\n",
       "      <th>3</th>\n",
       "      <td>Desjardins</td>\n",
       "      <td>VNI</td>\n",
       "      <td>185</td>\n",
       "    </tr>\n",
       "    <tr>\n",
       "      <th>4</th>\n",
       "      <td>Desjardins</td>\n",
       "      <td>VNII</td>\n",
       "      <td>16</td>\n",
       "    </tr>\n",
       "    <tr>\n",
       "      <th>5</th>\n",
       "      <td>Reference</td>\n",
       "      <td>VNI</td>\n",
       "      <td>1</td>\n",
       "    </tr>\n",
       "  </tbody>\n",
       "</table>\n",
       "</div>"
      ],
      "text/plain": [
       "      dataset lineage  counts\n",
       "0      Ashton     VNI     668\n",
       "1  Desjardins    VNBI     122\n",
       "2  Desjardins   VNBII      64\n",
       "3  Desjardins     VNI     185\n",
       "4  Desjardins    VNII      16\n",
       "5   Reference     VNI       1"
      ]
     },
     "execution_count": 17,
     "metadata": {},
     "output_type": "execute_result"
    }
   ],
   "source": [
    "metadata = pd.concat([metadata, pd.DataFrame([H99])], ignore_index=True)\n",
    "metadata.groupby(['dataset', 'lineage'], observed=True).size().reset_index(name='counts')\n"
   ]
  },
  {
   "cell_type": "code",
   "execution_count": 18,
   "metadata": {},
   "outputs": [],
   "source": [
    "metadata.to_csv(metadata_all_H99_path, index=False)"
   ]
  },
  {
   "cell_type": "code",
   "execution_count": 19,
   "metadata": {},
   "outputs": [],
   "source": [
    "metadata_ashton_desj_vni_weavepop = metadata[(metadata['dataset'] != 'Reference') & (metadata['lineage'] == 'VNI')]\n",
    "metadata_ashton_desj_vni_weavepop.groupby(['dataset', 'lineage'], observed=True).size().reset_index(name='counts')\n",
    "metadata_ashton_desj_vni_weavepop.to_csv(metadata_vni_path, index=False)"
   ]
  },
  {
   "cell_type": "code",
   "execution_count": 20,
   "metadata": {},
   "outputs": [
    {
     "data": {
      "application/vnd.microsoft.datawrangler.viewer.v0+json": {
       "columns": [
        {
         "name": "index",
         "rawType": "int64",
         "type": "integer"
        },
        {
         "name": "dataset",
         "rawType": "object",
         "type": "string"
        },
        {
         "name": "lineage",
         "rawType": "object",
         "type": "string"
        },
        {
         "name": "counts",
         "rawType": "int64",
         "type": "integer"
        }
       ],
       "conversionMethod": "pd.DataFrame",
       "ref": "3a5b972e-a4e3-4176-973a-9cf33778126c",
       "rows": [
        [
         "0",
         "Ashton",
         "VNI",
         "668"
        ],
        [
         "1",
         "Desjardins",
         "VNI",
         "185"
        ]
       ],
       "shape": {
        "columns": 3,
        "rows": 2
       }
      },
      "text/html": [
       "<div>\n",
       "<style scoped>\n",
       "    .dataframe tbody tr th:only-of-type {\n",
       "        vertical-align: middle;\n",
       "    }\n",
       "\n",
       "    .dataframe tbody tr th {\n",
       "        vertical-align: top;\n",
       "    }\n",
       "\n",
       "    .dataframe thead th {\n",
       "        text-align: right;\n",
       "    }\n",
       "</style>\n",
       "<table border=\"1\" class=\"dataframe\">\n",
       "  <thead>\n",
       "    <tr style=\"text-align: right;\">\n",
       "      <th></th>\n",
       "      <th>dataset</th>\n",
       "      <th>lineage</th>\n",
       "      <th>counts</th>\n",
       "    </tr>\n",
       "  </thead>\n",
       "  <tbody>\n",
       "    <tr>\n",
       "      <th>0</th>\n",
       "      <td>Ashton</td>\n",
       "      <td>VNI</td>\n",
       "      <td>668</td>\n",
       "    </tr>\n",
       "    <tr>\n",
       "      <th>1</th>\n",
       "      <td>Desjardins</td>\n",
       "      <td>VNI</td>\n",
       "      <td>185</td>\n",
       "    </tr>\n",
       "  </tbody>\n",
       "</table>\n",
       "</div>"
      ],
      "text/plain": [
       "      dataset lineage  counts\n",
       "0      Ashton     VNI     668\n",
       "1  Desjardins     VNI     185"
      ]
     },
     "execution_count": 20,
     "metadata": {},
     "output_type": "execute_result"
    }
   ],
   "source": [
    "metadata_ashton_desj_vni_weavepop.groupby(['dataset', 'lineage'], observed=True).size().reset_index(name='counts')\n"
   ]
  }
 ],
 "metadata": {
  "kernelspec": {
   "display_name": "widgets_2",
   "language": "python",
   "name": "python3"
  },
  "language_info": {
   "codemirror_mode": {
    "name": "ipython",
    "version": 3
   },
   "file_extension": ".py",
   "mimetype": "text/x-python",
   "name": "python",
   "nbconvert_exporter": "python",
   "pygments_lexer": "ipython3",
   "version": "3.12.3"
  }
 },
 "nbformat": 4,
 "nbformat_minor": 2
}
