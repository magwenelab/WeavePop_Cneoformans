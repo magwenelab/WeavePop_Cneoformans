{
 "cells": [
  {
   "cell_type": "code",
   "execution_count": 15,
   "metadata": {},
   "outputs": [],
   "source": [
    "import pandas as pd"
   ]
  },
  {
   "cell_type": "markdown",
   "metadata": {},
   "source": [
    "Get metadata of both Desjardins and Ashton datasets from the FungalPop joined analysis."
   ]
  },
  {
   "cell_type": "code",
   "execution_count": 16,
   "metadata": {},
   "outputs": [],
   "source": [
    "metadata_fungalpop_joined = pd.read_csv(\"/FastData/czirion/Crypto_Diversity_Pipeline/Crypto_Desjardins_Ashton/results_joined/02.Dataset/metadata.csv\", header=0)"
   ]
  },
  {
   "cell_type": "markdown",
   "metadata": {},
   "source": [
    "Get the metadata from the Ashton paper and drop the columns that are already in the other metadata."
   ]
  },
  {
   "cell_type": "code",
   "execution_count": 17,
   "metadata": {},
   "outputs": [],
   "source": [
    "metadata_from_ashton = pd.read_csv(\"/FastData/czirion/Crypto_Diversity_Pipeline/Crypto_Ashton/config/metadata_all_ashton_and_vni_desj.csv\", header=0)\n",
    "metadata_from_ashton.columns = metadata_from_ashton.columns.str.lower().str.replace(' ', '_')\n",
    "metadata_from_ashton.drop(columns=['country_of_origin', 'species_id_from_mash_anlaysis', 'study',\n",
    "       'hiv_status', 'continent_of_origin', 'year_of_origin',\n",
    "       'mean_depth_of_mapping_with_mq_>_30_across_whole_genome',\n",
    "       'proportion_of_genome_covered_by_at_least_5_reads_which_mapped_with_mq_>_30', 'source'], inplace=True)\n"
   ]
  },
  {
   "cell_type": "markdown",
   "metadata": {},
   "source": [
    "Merge them only on the column sample keeping the sample in the FungalPop analysis."
   ]
  },
  {
   "cell_type": "code",
   "execution_count": 18,
   "metadata": {},
   "outputs": [],
   "source": [
    "metadata_fixed = metadata_fungalpop_joined.merge(metadata_from_ashton, on = 'sample', how=\"left\")"
   ]
  },
  {
   "cell_type": "markdown",
   "metadata": {},
   "source": [
    "In the Desjardins samples keep the strain and lineage from the FungalPop analysis, and in the Ashton samples keep the species and lineage from the Ashton metadata."
   ]
  },
  {
   "cell_type": "code",
   "execution_count": 19,
   "metadata": {},
   "outputs": [],
   "source": [
    "metadata_fixed.loc[metadata_fixed[\"dataset\"] == \"Desjardins\", \"strain\"] = metadata_fixed[\"strain_x\"]\n",
    "metadata_fixed.loc[metadata_fixed[\"dataset\"] == \"Desjardins\", \"lineage\"] = metadata_fixed[\"lineage_x\"]\n",
    "metadata_fixed.loc[metadata_fixed[\"dataset\"] == \"Ashton\", \"strain\"] = metadata_fixed[\"strain_y\"]\n",
    "metadata_fixed.loc[metadata_fixed[\"dataset\"] == \"Ashton\", \"lineage\"] = metadata_fixed[\"lineage_y\"]"
   ]
  },
  {
   "cell_type": "markdown",
   "metadata": {},
   "source": [
    "Keep the run accessions from the Ashton metadata where available to be able to link the Desjarins samples to the Ashton tree (that includes them)."
   ]
  },
  {
   "cell_type": "code",
   "execution_count": 20,
   "metadata": {},
   "outputs": [],
   "source": [
    "metadata_fixed.loc[metadata_fixed[\"sra_accession_y\"].notna(), \"run\"] = metadata_fixed[\"sra_accession_y\"]\n",
    "metadata_fixed.loc[metadata_fixed[\"sra_accession_y\"].isna(), \"run\"] = metadata_fixed[\"sra_accession_x\"]"
   ]
  },
  {
   "cell_type": "markdown",
   "metadata": {},
   "source": [
    "Keep the vni_subdivision from the Ashton metadata"
   ]
  },
  {
   "cell_type": "code",
   "execution_count": 21,
   "metadata": {},
   "outputs": [],
   "source": [
    "metadata_fixed = metadata_fixed.rename(columns={\"vni_subdivision_y\": \"vni_subdivision\"})"
   ]
  },
  {
   "cell_type": "markdown",
   "metadata": {},
   "source": [
    "Cleanup"
   ]
  },
  {
   "cell_type": "code",
   "execution_count": 22,
   "metadata": {},
   "outputs": [],
   "source": [
    "metadata_fixed = metadata_fixed.drop(columns=[\"strain_x\", \"strain_y\", \"lineage_x\", \"lineage_y\", \"vni_subdivision_x\", \"sra_accession_x\", \"sra_accession_y\"])\n",
    "metadata_fixed = metadata_fixed[['sample', 'run', 'strain','lineage', 'vni_subdivision', 'dataset', 'source'] + [col for col in metadata_fixed.columns if col not in ['sample', 'strain','lineage','source','dataset','vni_subdivision','run'] ]]\n",
    "metadata_fixed = metadata_fixed.sort_values('vni_subdivision')"
   ]
  },
  {
   "cell_type": "code",
   "execution_count": 23,
   "metadata": {},
   "outputs": [],
   "source": [
    "metadata_fixed.to_csv(\"/FastData/czirion/Crypto_Diversity_Pipeline/analyses/data/derived/metadata_fixed.csv\", index=False)"
   ]
  },
  {
   "cell_type": "markdown",
   "metadata": {},
   "source": [
    "Save a version with only the useful columns"
   ]
  },
  {
   "cell_type": "code",
   "execution_count": 24,
   "metadata": {},
   "outputs": [],
   "source": [
    "metadata = metadata_fixed[['sample', 'run', 'strain','lineage', 'vni_subdivision', 'dataset', 'source', 'mating_type', 'country_of_origin']]\n"
   ]
  },
  {
   "cell_type": "markdown",
   "metadata": {},
   "source": [
    "Add H99 GCF_000149245"
   ]
  },
  {
   "cell_type": "code",
   "execution_count": 25,
   "metadata": {},
   "outputs": [],
   "source": [
    "H99 = {'sample': 'GCF_000149245', 'run': 'GCF_000149245', 'strain': 'H99', 'lineage': 'VNI', 'vni_subdivision': 'VNIb', 'dataset': 'Reference', 'source': 'Clinical', 'mating_type': 'α', 'country_of_origin': 'USA'}"
   ]
  },
  {
   "cell_type": "code",
   "execution_count": 26,
   "metadata": {},
   "outputs": [
    {
     "data": {
      "text/html": [
       "<div>\n",
       "<style scoped>\n",
       "    .dataframe tbody tr th:only-of-type {\n",
       "        vertical-align: middle;\n",
       "    }\n",
       "\n",
       "    .dataframe tbody tr th {\n",
       "        vertical-align: top;\n",
       "    }\n",
       "\n",
       "    .dataframe thead th {\n",
       "        text-align: right;\n",
       "    }\n",
       "</style>\n",
       "<table border=\"1\" class=\"dataframe\">\n",
       "  <thead>\n",
       "    <tr style=\"text-align: right;\">\n",
       "      <th></th>\n",
       "      <th>sample</th>\n",
       "      <th>run</th>\n",
       "      <th>strain</th>\n",
       "      <th>lineage</th>\n",
       "      <th>vni_subdivision</th>\n",
       "      <th>dataset</th>\n",
       "      <th>source</th>\n",
       "      <th>mating_type</th>\n",
       "      <th>country_of_origin</th>\n",
       "    </tr>\n",
       "  </thead>\n",
       "  <tbody>\n",
       "    <tr>\n",
       "      <th>0</th>\n",
       "      <td>ERS1142739</td>\n",
       "      <td>ERR1671640</td>\n",
       "      <td>20427_2#42</td>\n",
       "      <td>VNI</td>\n",
       "      <td>VNIa-32</td>\n",
       "      <td>Ashton</td>\n",
       "      <td>Clinical</td>\n",
       "      <td>NaN</td>\n",
       "      <td>Vietnam</td>\n",
       "    </tr>\n",
       "    <tr>\n",
       "      <th>1</th>\n",
       "      <td>ERS2540972</td>\n",
       "      <td>ERR2624485</td>\n",
       "      <td>04CN-64-065</td>\n",
       "      <td>VNI</td>\n",
       "      <td>VNIa-32</td>\n",
       "      <td>Ashton</td>\n",
       "      <td>Clinical</td>\n",
       "      <td>NaN</td>\n",
       "      <td>Uganda</td>\n",
       "    </tr>\n",
       "    <tr>\n",
       "      <th>2</th>\n",
       "      <td>ERS2541156</td>\n",
       "      <td>ERR2624113</td>\n",
       "      <td>BMD915</td>\n",
       "      <td>VNI</td>\n",
       "      <td>VNIa-32</td>\n",
       "      <td>Ashton</td>\n",
       "      <td>Clinical</td>\n",
       "      <td>NaN</td>\n",
       "      <td>Vietnam</td>\n",
       "    </tr>\n",
       "    <tr>\n",
       "      <th>3</th>\n",
       "      <td>ERS542302</td>\n",
       "      <td>ERR842482</td>\n",
       "      <td>14892_1#7</td>\n",
       "      <td>VNI</td>\n",
       "      <td>VNIa-32</td>\n",
       "      <td>Ashton</td>\n",
       "      <td>Clinical</td>\n",
       "      <td>NaN</td>\n",
       "      <td>Vietnam</td>\n",
       "    </tr>\n",
       "    <tr>\n",
       "      <th>4</th>\n",
       "      <td>ERS2541105</td>\n",
       "      <td>ERR2624207</td>\n",
       "      <td>BMD942</td>\n",
       "      <td>VNI</td>\n",
       "      <td>VNIa-32</td>\n",
       "      <td>Ashton</td>\n",
       "      <td>Clinical</td>\n",
       "      <td>NaN</td>\n",
       "      <td>Vietnam</td>\n",
       "    </tr>\n",
       "    <tr>\n",
       "      <th>...</th>\n",
       "      <td>...</td>\n",
       "      <td>...</td>\n",
       "      <td>...</td>\n",
       "      <td>...</td>\n",
       "      <td>...</td>\n",
       "      <td>...</td>\n",
       "      <td>...</td>\n",
       "      <td>...</td>\n",
       "      <td>...</td>\n",
       "    </tr>\n",
       "    <tr>\n",
       "      <th>1051</th>\n",
       "      <td>SRS520177</td>\n",
       "      <td>SRX400063, SRX400064</td>\n",
       "      <td>MW-RSA1327</td>\n",
       "      <td>VNII</td>\n",
       "      <td>NaN</td>\n",
       "      <td>Desjardins</td>\n",
       "      <td>Clinical</td>\n",
       "      <td>α</td>\n",
       "      <td>S. Africa</td>\n",
       "    </tr>\n",
       "    <tr>\n",
       "      <th>1052</th>\n",
       "      <td>SRS520179</td>\n",
       "      <td>SRX400068, SRX400067</td>\n",
       "      <td>MW-RSA3956</td>\n",
       "      <td>VNII</td>\n",
       "      <td>NaN</td>\n",
       "      <td>Desjardins</td>\n",
       "      <td>Clinical</td>\n",
       "      <td>α</td>\n",
       "      <td>S. Africa</td>\n",
       "    </tr>\n",
       "    <tr>\n",
       "      <th>1053</th>\n",
       "      <td>SRS520181</td>\n",
       "      <td>SRX400073, SRX400071, SRX400072</td>\n",
       "      <td>MW-RSA913</td>\n",
       "      <td>VNBII</td>\n",
       "      <td>NaN</td>\n",
       "      <td>Desjardins</td>\n",
       "      <td>Clinical</td>\n",
       "      <td>α</td>\n",
       "      <td>S. Africa</td>\n",
       "    </tr>\n",
       "    <tr>\n",
       "      <th>1054</th>\n",
       "      <td>SRS520182</td>\n",
       "      <td>SRX400075, SRX400076</td>\n",
       "      <td>WM626</td>\n",
       "      <td>VNII</td>\n",
       "      <td>NaN</td>\n",
       "      <td>Desjardins</td>\n",
       "      <td>Clinical</td>\n",
       "      <td>α</td>\n",
       "      <td>Australia</td>\n",
       "    </tr>\n",
       "    <tr>\n",
       "      <th>1055</th>\n",
       "      <td>GCF_000149245</td>\n",
       "      <td>GCF_000149245</td>\n",
       "      <td>H99</td>\n",
       "      <td>VNI</td>\n",
       "      <td>VNIb</td>\n",
       "      <td>Reference</td>\n",
       "      <td>Clinical</td>\n",
       "      <td>α</td>\n",
       "      <td>USA</td>\n",
       "    </tr>\n",
       "  </tbody>\n",
       "</table>\n",
       "<p>1056 rows × 9 columns</p>\n",
       "</div>"
      ],
      "text/plain": [
       "             sample                              run       strain lineage  \\\n",
       "0        ERS1142739                       ERR1671640   20427_2#42     VNI   \n",
       "1        ERS2540972                       ERR2624485  04CN-64-065     VNI   \n",
       "2        ERS2541156                       ERR2624113       BMD915     VNI   \n",
       "3         ERS542302                        ERR842482    14892_1#7     VNI   \n",
       "4        ERS2541105                       ERR2624207       BMD942     VNI   \n",
       "...             ...                              ...          ...     ...   \n",
       "1051      SRS520177             SRX400063, SRX400064   MW-RSA1327    VNII   \n",
       "1052      SRS520179             SRX400068, SRX400067   MW-RSA3956    VNII   \n",
       "1053      SRS520181  SRX400073, SRX400071, SRX400072    MW-RSA913   VNBII   \n",
       "1054      SRS520182             SRX400075, SRX400076        WM626    VNII   \n",
       "1055  GCF_000149245                    GCF_000149245          H99     VNI   \n",
       "\n",
       "     vni_subdivision     dataset    source mating_type country_of_origin  \n",
       "0            VNIa-32      Ashton  Clinical         NaN           Vietnam  \n",
       "1            VNIa-32      Ashton  Clinical         NaN            Uganda  \n",
       "2            VNIa-32      Ashton  Clinical         NaN           Vietnam  \n",
       "3            VNIa-32      Ashton  Clinical         NaN           Vietnam  \n",
       "4            VNIa-32      Ashton  Clinical         NaN           Vietnam  \n",
       "...              ...         ...       ...         ...               ...  \n",
       "1051             NaN  Desjardins  Clinical           α         S. Africa  \n",
       "1052             NaN  Desjardins  Clinical           α         S. Africa  \n",
       "1053             NaN  Desjardins  Clinical           α         S. Africa  \n",
       "1054             NaN  Desjardins  Clinical           α        Australia   \n",
       "1055            VNIb   Reference  Clinical           α               USA  \n",
       "\n",
       "[1056 rows x 9 columns]"
      ]
     },
     "execution_count": 26,
     "metadata": {},
     "output_type": "execute_result"
    }
   ],
   "source": [
    "metadata = pd.concat([metadata, pd.DataFrame([H99])], ignore_index=True)\n",
    "metadata"
   ]
  },
  {
   "cell_type": "code",
   "execution_count": 27,
   "metadata": {},
   "outputs": [],
   "source": [
    "metadata.to_csv(\"/FastData/czirion/Crypto_Diversity_Pipeline/analyses/data/derived/metadata.csv\", index=False)"
   ]
  }
 ],
 "metadata": {
  "kernelspec": {
   "display_name": "widgets_2",
   "language": "python",
   "name": "python3"
  },
  "language_info": {
   "codemirror_mode": {
    "name": "ipython",
    "version": 3
   },
   "file_extension": ".py",
   "mimetype": "text/x-python",
   "name": "python",
   "nbconvert_exporter": "python",
   "pygments_lexer": "ipython3",
   "version": "3.12.3"
  }
 },
 "nbformat": 4,
 "nbformat_minor": 2
}
