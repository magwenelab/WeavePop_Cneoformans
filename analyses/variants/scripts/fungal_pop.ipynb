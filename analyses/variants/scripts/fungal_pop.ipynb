{
 "cells": [
  {
   "cell_type": "code",
   "execution_count": 2,
   "metadata": {},
   "outputs": [
    {
     "data": {
      "text/plain": [
       "'/mnt/FastData/czirion/ServerDatabase/scripts'"
      ]
     },
     "execution_count": 2,
     "metadata": {},
     "output_type": "execute_result"
    }
   ],
   "source": [
    "import os\n",
    "os.getcwd()\n",
    "os.chdir('/FastData/czirion/ServerDatabase/scripts')\n",
    "import query_database as qdb\n",
    "import pandas as pd\n",
    "import duckdb\n",
    "os.getcwd()"
   ]
  },
  {
   "cell_type": "code",
   "execution_count": 2,
   "metadata": {},
   "outputs": [],
   "source": [
    "mydb = '/FastData/czirion/Crypto_Desjardins/results_2024-09-12/02.Dataset/database.db'"
   ]
  },
  {
   "cell_type": "markdown",
   "metadata": {},
   "source": [
    "# STE variants"
   ]
  },
  {
   "cell_type": "code",
   "execution_count": null,
   "metadata": {},
   "outputs": [],
   "source": [
    "STE3alpha = qdb.effects(db = mydb, gene_name = ('STE3alpha',), impact = ('HIGH', 'MODERATE', 'LOW'), strain = (\"8-1\",))\n",
    "STE3alpha"
   ]
  },
  {
   "cell_type": "markdown",
   "metadata": {},
   "source": [
    "## HIGH impact"
   ]
  },
  {
   "cell_type": "code",
   "execution_count": null,
   "metadata": {},
   "outputs": [],
   "source": [
    "HIGH = qdb.effects(db = mydb, impact = ('HIGH',), lineage = ('VNI', 'VNII', 'VNBI', 'VNBII'))\n",
    "\n",
    "HIGH.to_csv('../results/fungal_pop/HIGH.csv',index = False)\n",
    "HIGH"
   ]
  },
  {
   "cell_type": "code",
   "execution_count": null,
   "metadata": {},
   "outputs": [],
   "source": [
    "ALL = qdb.effects(db = mydb, lineage = ('VNI', 'VNII', 'VNBI', 'VNBII'))\n",
    "ALL.to_csv('../results/fungal_pop/ALL.csv',index = False)"
   ]
  },
  {
   "cell_type": "code",
   "execution_count": 6,
   "metadata": {},
   "outputs": [],
   "source": [
    "ALL_filtered = ALL[ALL['impact'].isin(['HIGH', 'MODERATE', 'LOW'])]\n",
    "ALL_filtered.to_csv('../results/fungal_pop/ALL_filtered.csv',index = False)"
   ]
  },
  {
   "cell_type": "markdown",
   "metadata": {},
   "source": [
    "# Pathway variants"
   ]
  },
  {
   "cell_type": "code",
   "execution_count": 17,
   "metadata": {},
   "outputs": [],
   "source": [
    "samples = qdb.list_samples(db = mydb)\n",
    "samples_df = pd.DataFrame(samples)\n",
    "samples_df.columns = ['sample']\n",
    "samples_df.to_csv('../results/fungal_pop/samples.csv', index = False)\n"
   ]
  },
  {
   "cell_type": "code",
   "execution_count": 3,
   "metadata": {},
   "outputs": [],
   "source": [
    "strains = qdb.list_strains(db = mydb)\n",
    "strains_df = pd.DataFrame(strains)\n",
    "strains_df.columns = ['strain']\n",
    "strains_df.to_csv('../results/fungal_pop/strains.csv', index = False)\n"
   ]
  },
  {
   "cell_type": "markdown",
   "metadata": {},
   "source": [
    "## HOG "
   ]
  },
  {
   "cell_type": "code",
   "execution_count": null,
   "metadata": {},
   "outputs": [],
   "source": [
    "HOG_genes = ('CNAG_01850', 'CNAG_05590', 'CNAG_06151', 'CNAG_03818',\n",
    "             'CNAG_05063', 'CNAG_00769', 'CNAG_01523', 'CNAG_03409',\n",
    "             'CNAG_03465', 'CNAG_06301', 'CNAG_00531', 'CNAG_01678')\n",
    "HOG = qdb.effects(db = mydb, gene_id= HOG_genes, impact = ('HIGH', 'MODERATE', 'LOW'))\n",
    "HOG_vars = HOG['var_id'].unique()\n",
    "\n",
    "HOG.to_csv('../results/fungal_pop/HOG.csv',index = False)"
   ]
  },
  {
   "cell_type": "markdown",
   "metadata": {},
   "source": [
    "## TOR"
   ]
  },
  {
   "cell_type": "code",
   "execution_count": null,
   "metadata": {},
   "outputs": [],
   "source": [
    "TOR_genes = ('CNAG_06642', 'CNAG_06107', 'CNAG_04693', 'CNAG_03682',\n",
    "             'CNAG_02915', 'CNAG_04514', 'CNAG_04678', 'CNAG_01063')\n",
    "TOR = qdb.effects(db = mydb, gene_id= TOR_genes , impact = ('HIGH', 'MODERATE', 'LOW'))\n",
    "TOR.to_csv('../results/fungal_pop/TOR.csv', index = False) "
   ]
  },
  {
   "cell_type": "markdown",
   "metadata": {},
   "source": [
    "## cAMP"
   ]
  },
  {
   "cell_type": "code",
   "execution_count": null,
   "metadata": {},
   "outputs": [],
   "source": [
    "cAMP_genes = ('CNAG_04730', 'CNAG_04505', 'CNAG_05427', 'CNAG_05890', 'CNAG_05465', \n",
    "              'CNAG_06401', 'CNAG_00293', 'CNAG_03202', 'CNAG_05218', 'CNAG_05081', \n",
    "              'CNAG_07470', 'CNAG_00570', 'CNAG_00396', 'CNAG_04162', 'CNAG_04864', \n",
    "              'CNAG_05431', 'CNAG_01371', 'CNAG_05222', 'CNAG_04642')\n",
    "\n",
    "cAMP = qdb.effects(db = mydb, gene_id= cAMP_genes, impact = ('HIGH', 'MODERATE', 'LOW'))\n",
    "cAMP.to_csv('../results/fungal_pop/cAMP.csv', index = False)"
   ]
  },
  {
   "cell_type": "markdown",
   "metadata": {},
   "source": [
    "## Calcineurin"
   ]
  },
  {
   "cell_type": "code",
   "execution_count": null,
   "metadata": {},
   "outputs": [],
   "source": [
    "calcineurin_genes = (\n",
    "    'CNAG_01557', 'CNAG_04796', 'CNAG_00888', 'CNAG_00293', \n",
    "    'CNAG_04243', 'CNAG_05348', 'CNAG_00156', 'CNAG_01208', \n",
    "    'CNAG_00025', 'CNAG_01232', 'CNAG_05592'\n",
    ")\n",
    "calcineurin = qdb.effects(db = mydb, gene_id= calcineurin_genes, impact = ('HIGH', 'MODERATE', 'LOW'))\n",
    "calcineurin.to_csv('../results/fungal_pop/calcineurin.csv', index = False)"
   ]
  },
  {
   "cell_type": "markdown",
   "metadata": {},
   "source": [
    "# All genes"
   ]
  },
  {
   "cell_type": "code",
   "execution_count": 4,
   "metadata": {},
   "outputs": [],
   "source": [
    "con = duckdb.connect(mydb)\n",
    "genes=con.execute(\"\"\"SELECT DISTINCT lineage, gene_id FROM gff \"\"\").fetch_df()\n",
    "genes.to_csv('../results/fungal_pop/genes.csv', index=False)\n"
   ]
  },
  {
   "cell_type": "markdown",
   "metadata": {},
   "source": [
    "# Ashton and Desjardins"
   ]
  },
  {
   "cell_type": "code",
   "execution_count": 3,
   "metadata": {},
   "outputs": [],
   "source": [
    "mydb = '/FastData/czirion/ashton/results_joined/02.Dataset/database.db'"
   ]
  },
  {
   "cell_type": "code",
   "execution_count": 7,
   "metadata": {},
   "outputs": [],
   "source": [
    "metadata = qdb.get_metadata(db = mydb)\n",
    "metadata.to_csv('/FastData/czirion/Crypto_Desjardins/fungal_pop/ashton_desj/metadata.csv', index = False)"
   ]
  },
  {
   "cell_type": "code",
   "execution_count": 4,
   "metadata": {},
   "outputs": [
    {
     "name": "stdout",
     "output_type": "stream",
     "text": [
      "\n",
      "        SELECT samples.dataset, samples.strain, presence.sample, presence.lineage,\n",
      "            variants.var_id, chromosome_names.chromosome,\n",
      "            variants.pos AS position, variants.ref AS reference, variants.alt AS alternative,\n",
      "            effects.gene_name, effects.gene_id, effects.transcript_id,\n",
      "            effects.impact, effects.effect_type, effects.effect,\n",
      "            effects.codon_change, effects.amino_acid_change, effects.amino_acid_length,\n",
      "            effects.transcript_biotype, effects.gene_coding, effects.exon_rank,\n",
      "            mapq_depth.mean_depth_normalized, mapq_depth.mean_mapq\n",
      "        FROM variants \n",
      "        JOIN chromosome_names ON variants.accession = chromosome_names.accession\n",
      "        JOIN presence ON variants.var_id = presence.var_id\n",
      "        JOIN effects ON variants.var_id = effects.var_id\n",
      "        JOIN samples ON presence.sample = samples.sample\n",
      "        LEFT JOIN mapq_depth ON mapq_depth.feature_id = effects.transcript_id AND mapq_depth.sample = presence.sample\n",
      "        WHERE samples.dataset IN ('Desjardins', 'Ashton')\n",
      "        AND presence.lineage IN ('VNI', 'VNII', 'VNBI', 'VNBII')AND effects.impact IN ('HIGH', 'MODERATE', 'LOW') \n"
     ]
    },
    {
     "data": {
      "application/vnd.jupyter.widget-view+json": {
       "model_id": "628d9a93c13442ac84fb4ee2875bd900",
       "version_major": 2,
       "version_minor": 0
      },
      "text/plain": [
       "FloatProgress(value=0.0, layout=Layout(width='auto'), style=ProgressStyle(bar_color='black'))"
      ]
     },
     "metadata": {},
     "output_type": "display_data"
    }
   ],
   "source": [
    "HML = qdb.effects(db = mydb, lineage = ('VNI', 'VNII', 'VNBI', 'VNBII'), impact = ('HIGH', 'MODERATE', 'LOW'))"
   ]
  },
  {
   "cell_type": "code",
   "execution_count": 6,
   "metadata": {},
   "outputs": [],
   "source": [
    "HML.to_csv('/FastData/czirion/Crypto_Desjardins/fungal_pop/ashton_desj/HML.csv',index = False)"
   ]
  }
 ],
 "metadata": {
  "kernelspec": {
   "display_name": "widgets",
   "language": "python",
   "name": "python3"
  },
  "language_info": {
   "codemirror_mode": {
    "name": "ipython",
    "version": 3
   },
   "file_extension": ".py",
   "mimetype": "text/x-python",
   "name": "python",
   "nbconvert_exporter": "python",
   "pygments_lexer": "ipython3",
   "version": "3.12.3"
  }
 },
 "nbformat": 4,
 "nbformat_minor": 2
}
