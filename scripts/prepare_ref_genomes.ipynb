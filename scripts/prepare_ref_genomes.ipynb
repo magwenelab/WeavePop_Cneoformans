{
 "cells": [
  {
   "cell_type": "markdown",
   "id": "c3e279f1",
   "metadata": {},
   "source": [
    "# Prepare reference genomes\n",
    "* Gather reference genomes reoriented in `cryptococcus_reference_genomes` repository.  \n",
    "* Rename accessions.  \n",
    "* Create `chromosmes.csv` file.   \n",
    "* Rename files.   "
   ]
  },
  {
   "cell_type": "markdown",
   "id": "4cf7704c",
   "metadata": {},
   "source": [
    "The reorientation of the chromosomes of each reference genome created chromosome IDs (accessions) that are in the format of RefID_QueryID (H99_lineage), but we want them in the format of QueryID_R if the chromosome is inverted (reverse complement of original), or QueryID if it is not inverted."
   ]
  },
  {
   "cell_type": "code",
   "execution_count": 3,
   "id": "da861984",
   "metadata": {},
   "outputs": [],
   "source": [
    "import pandas as pd\n",
    "import os\n",
    "from pathlib import Path\n",
    "\n",
    "os.chdir(\"/FastData/czirion/WeavePop_Cneoformans/\")\n"
   ]
  },
  {
   "cell_type": "code",
   "execution_count": 4,
   "id": "1ed397f3",
   "metadata": {},
   "outputs": [],
   "source": [
    "%%bash\n",
    "mkdir -p Crypto_Desjardins/data/references"
   ]
  },
  {
   "cell_type": "code",
   "execution_count": 5,
   "id": "052c01be",
   "metadata": {},
   "outputs": [
    {
     "data": {
      "application/vnd.microsoft.datawrangler.viewer.v0+json": {
       "columns": [
        {
         "name": "index",
         "rawType": "int64",
         "type": "integer"
        },
        {
         "name": "Species",
         "rawType": "object",
         "type": "string"
        },
        {
         "name": "Lineage",
         "rawType": "object",
         "type": "string"
        },
        {
         "name": "Strain",
         "rawType": "object",
         "type": "string"
        },
        {
         "name": "Accession",
         "rawType": "object",
         "type": "unknown"
        }
       ],
       "ref": "dfa406b7-47a9-421b-be8b-964704bad940",
       "rows": [
        [
         "0",
         "C.neoformans",
         "VNI",
         "H99",
         "GCA_000149245.3"
        ],
        [
         "1",
         "C.neoformans",
         "VNII",
         "Cockatoo",
         "GCA_022832995.1"
        ],
        [
         "2",
         "C.neoformans",
         "VNBI",
         "Bt22",
         null
        ],
        [
         "3",
         "C.neoformans",
         "VNBII",
         "Bt89",
         "GCA_023650575.1"
        ],
        [
         "4",
         "C.deneoformans",
         "VNIV",
         "JEC21",
         "GCA_000091045.1"
        ],
        [
         "5",
         "C.gattii",
         "VGI",
         "WM276",
         "GCA_000185945.1"
        ],
        [
         "6",
         "C.deuterogattii",
         "VGII",
         "R265",
         "GCA_002954075.1"
        ],
        [
         "7",
         "C.bacillisporus",
         "VGIII",
         "CA1280",
         "GCA_000836335.2"
        ],
        [
         "8",
         "C.tetragattii",
         "VGIV",
         "IND107",
         "GCA_000835755.2"
        ],
        [
         "9",
         "C.hyraxii",
         "VGV",
         "MF34",
         "GCA_009650685.1"
        ]
       ],
       "shape": {
        "columns": 4,
        "rows": 10
       }
      },
      "text/html": [
       "<div>\n",
       "<style scoped>\n",
       "    .dataframe tbody tr th:only-of-type {\n",
       "        vertical-align: middle;\n",
       "    }\n",
       "\n",
       "    .dataframe tbody tr th {\n",
       "        vertical-align: top;\n",
       "    }\n",
       "\n",
       "    .dataframe thead th {\n",
       "        text-align: right;\n",
       "    }\n",
       "</style>\n",
       "<table border=\"1\" class=\"dataframe\">\n",
       "  <thead>\n",
       "    <tr style=\"text-align: right;\">\n",
       "      <th></th>\n",
       "      <th>Species</th>\n",
       "      <th>Lineage</th>\n",
       "      <th>Strain</th>\n",
       "      <th>Accession</th>\n",
       "    </tr>\n",
       "  </thead>\n",
       "  <tbody>\n",
       "    <tr>\n",
       "      <th>0</th>\n",
       "      <td>C.neoformans</td>\n",
       "      <td>VNI</td>\n",
       "      <td>H99</td>\n",
       "      <td>GCA_000149245.3</td>\n",
       "    </tr>\n",
       "    <tr>\n",
       "      <th>1</th>\n",
       "      <td>C.neoformans</td>\n",
       "      <td>VNII</td>\n",
       "      <td>Cockatoo</td>\n",
       "      <td>GCA_022832995.1</td>\n",
       "    </tr>\n",
       "    <tr>\n",
       "      <th>2</th>\n",
       "      <td>C.neoformans</td>\n",
       "      <td>VNBI</td>\n",
       "      <td>Bt22</td>\n",
       "      <td>NaN</td>\n",
       "    </tr>\n",
       "    <tr>\n",
       "      <th>3</th>\n",
       "      <td>C.neoformans</td>\n",
       "      <td>VNBII</td>\n",
       "      <td>Bt89</td>\n",
       "      <td>GCA_023650575.1</td>\n",
       "    </tr>\n",
       "    <tr>\n",
       "      <th>4</th>\n",
       "      <td>C.deneoformans</td>\n",
       "      <td>VNIV</td>\n",
       "      <td>JEC21</td>\n",
       "      <td>GCA_000091045.1</td>\n",
       "    </tr>\n",
       "    <tr>\n",
       "      <th>5</th>\n",
       "      <td>C.gattii</td>\n",
       "      <td>VGI</td>\n",
       "      <td>WM276</td>\n",
       "      <td>GCA_000185945.1</td>\n",
       "    </tr>\n",
       "    <tr>\n",
       "      <th>6</th>\n",
       "      <td>C.deuterogattii</td>\n",
       "      <td>VGII</td>\n",
       "      <td>R265</td>\n",
       "      <td>GCA_002954075.1</td>\n",
       "    </tr>\n",
       "    <tr>\n",
       "      <th>7</th>\n",
       "      <td>C.bacillisporus</td>\n",
       "      <td>VGIII</td>\n",
       "      <td>CA1280</td>\n",
       "      <td>GCA_000836335.2</td>\n",
       "    </tr>\n",
       "    <tr>\n",
       "      <th>8</th>\n",
       "      <td>C.tetragattii</td>\n",
       "      <td>VGIV</td>\n",
       "      <td>IND107</td>\n",
       "      <td>GCA_000835755.2</td>\n",
       "    </tr>\n",
       "    <tr>\n",
       "      <th>9</th>\n",
       "      <td>C.hyraxii</td>\n",
       "      <td>VGV</td>\n",
       "      <td>MF34</td>\n",
       "      <td>GCA_009650685.1</td>\n",
       "    </tr>\n",
       "  </tbody>\n",
       "</table>\n",
       "</div>"
      ],
      "text/plain": [
       "           Species Lineage    Strain        Accession\n",
       "0     C.neoformans     VNI       H99  GCA_000149245.3\n",
       "1     C.neoformans    VNII  Cockatoo  GCA_022832995.1\n",
       "2     C.neoformans    VNBI      Bt22              NaN\n",
       "3     C.neoformans   VNBII      Bt89  GCA_023650575.1\n",
       "4   C.deneoformans    VNIV     JEC21  GCA_000091045.1\n",
       "5         C.gattii     VGI     WM276  GCA_000185945.1\n",
       "6  C.deuterogattii    VGII      R265  GCA_002954075.1\n",
       "7  C.bacillisporus   VGIII    CA1280  GCA_000836335.2\n",
       "8    C.tetragattii    VGIV    IND107  GCA_000835755.2\n",
       "9        C.hyraxii     VGV      MF34  GCA_009650685.1"
      ]
     },
     "execution_count": 5,
     "metadata": {},
     "output_type": "execute_result"
    }
   ],
   "source": [
    "ref_genomes = pd.read_csv(\"/FastData/shared/gits/cryptococcus_reference_genomes/reference_genomes.csv\")\n",
    "ref_genomes"
   ]
  },
  {
   "cell_type": "markdown",
   "id": "e8cc0f38",
   "metadata": {},
   "source": [
    "Copy VNI GFF file to the data directory."
   ]
  },
  {
   "cell_type": "code",
   "execution_count": 6,
   "id": "7634d6f1",
   "metadata": {},
   "outputs": [],
   "source": [
    "%%bash \n",
    "scp /FastData/shared/gits/cryptococcus_reference_genomes/ncbi_datasets/GCA_000149245.3_dataset/ncbi_dataset/data/GCA_000149245.3/genomic.gff Crypto_Desjardins/data/references/VNI.gff"
   ]
  },
  {
   "cell_type": "markdown",
   "id": "a48fa67b",
   "metadata": {},
   "source": [
    "Create a table with the accessions, correspondance with H99 chromosomes and the reorientation information."
   ]
  },
  {
   "cell_type": "code",
   "execution_count": 7,
   "id": "1bd4e76e",
   "metadata": {},
   "outputs": [],
   "source": [
    "%%bash\n",
    "cd /FastData/shared/gits/cryptococcus_reference_genomes/alignments_to_H99/\n",
    "echo \"lineage,QueryID,RefID,Inverted\" > /FastData/czirion/WeavePop_Cneoformans/Crypto_Desjardins/config/chromosome_alignments.csv\n",
    "for file in C.neoformans_VNI_H99.csv C.neoformans_VNII_Cockatoo.csv C.neoformans_VNBI_Bt22.csv C.neoformans_VNBII_Bt89.csv\n",
    "do\n",
    "    lineage=$(echo $file | cut -d'_' -f2)\n",
    "    tail -n +2 $file | awk -v lineage=$lineage -v FS=, -v OFS=, '{print lineage,$1,$2,$3}' >> /FastData/czirion/WeavePop_Cneoformans/Crypto_Desjardins/config/chromosome_alignments.csv\n",
    "done"
   ]
  },
  {
   "cell_type": "code",
   "execution_count": 8,
   "id": "ed93251a",
   "metadata": {},
   "outputs": [],
   "source": [
    "chrom_align = pd.read_csv(\"/FastData/czirion/WeavePop_Cneoformans/Crypto_Desjardins/config/chromosome_alignments.csv\")"
   ]
  },
  {
   "cell_type": "markdown",
   "id": "9de0c929",
   "metadata": {},
   "source": [
    "Make a column with the accessions that are in the files."
   ]
  },
  {
   "cell_type": "code",
   "execution_count": 9,
   "id": "29667588",
   "metadata": {},
   "outputs": [],
   "source": [
    "chrom_align[\"current_accession\"] = chrom_align[\"RefID\"].str.cat(chrom_align[\"QueryID\"], sep=\"_\")"
   ]
  },
  {
   "cell_type": "markdown",
   "id": "408fc0c5",
   "metadata": {},
   "source": [
    "Make a column with the accessions that we want to use instead of the current accessions."
   ]
  },
  {
   "cell_type": "code",
   "execution_count": 10,
   "id": "0c319299",
   "metadata": {},
   "outputs": [],
   "source": [
    "chrom_align['accession'] = chrom_align.apply(lambda row: row[\"QueryID\"] + \"_R\" if row[\"Inverted\"] == True else row[\"QueryID\"], axis=1)"
   ]
  },
  {
   "cell_type": "code",
   "execution_count": 11,
   "id": "37dfe39e",
   "metadata": {},
   "outputs": [],
   "source": [
    "chrom_align.to_csv(\"/FastData/czirion/WeavePop_Cneoformans/Crypto_Desjardins/config/chromosome_alignments.csv\", index=False)"
   ]
  },
  {
   "cell_type": "markdown",
   "id": "cece725c",
   "metadata": {},
   "source": [
    "Copy the FASTA files to the data directory."
   ]
  },
  {
   "cell_type": "code",
   "execution_count": 12,
   "id": "ed122ffa",
   "metadata": {},
   "outputs": [],
   "source": [
    "%%bash\n",
    "cd /FastData/shared/gits/cryptococcus_reference_genomes/alignments_to_H99/\n",
    "\n",
    "for file in C.neoformans_VNI_H99_reoriented.fasta C.neoformans_VNII_Cockatoo_reoriented.fasta C.neoformans_VNBI_Bt22_reoriented.fasta C.neoformans_VNBII_Bt89_reoriented.fasta\n",
    "do\n",
    "    lineage=$(echo $file | cut -d'_' -f2)\n",
    "    scp $file /FastData/czirion/WeavePop_Cneoformans/Crypto_Desjardins/data/references/${lineage}.fasta\n",
    "done"
   ]
  },
  {
   "cell_type": "markdown",
   "id": "1289bb98",
   "metadata": {},
   "source": [
    "Replace the \"current_accession\" column with the \"accession\" column."
   ]
  },
  {
   "cell_type": "code",
   "execution_count": 13,
   "id": "7bc5641e",
   "metadata": {},
   "outputs": [
    {
     "name": "stdout",
     "output_type": "stream",
     "text": [
      "Updating CP003820.1_CP003820.1 to CP003820.1 in VNI.fasta\n",
      "Updating CP003821.1_CP003821.1 to CP003821.1 in VNI.fasta\n",
      "Updating CP003822.1_CP003822.1 to CP003822.1 in VNI.fasta\n",
      "Updating CP003823.1_CP003823.1 to CP003823.1 in VNI.fasta\n",
      "Updating CP003824.1_CP003824.1 to CP003824.1 in VNI.fasta\n",
      "Updating CP003825.1_CP003825.1 to CP003825.1 in VNI.fasta\n",
      "Updating CP003826.1_CP003826.1 to CP003826.1 in VNI.fasta\n",
      "Updating CP003827.1_CP003827.1 to CP003827.1 in VNI.fasta\n",
      "Updating CP003828.1_CP003828.1 to CP003828.1 in VNI.fasta\n",
      "Updating CP003829.1_CP003829.1 to CP003829.1 in VNI.fasta\n",
      "Updating CP003830.1_CP003830.1 to CP003830.1 in VNI.fasta\n",
      "Updating CP003831.1_CP003831.1 to CP003831.1 in VNI.fasta\n",
      "Updating CP003832.1_CP003832.1 to CP003832.1 in VNI.fasta\n",
      "Updating CP003833.2_CP003833.2 to CP003833.2 in VNI.fasta\n",
      "Updating CP003834.1_CP003834.1 to CP003834.1 in VNI.fasta\n",
      "Updating CP003820.1_CP091247.1 to CP091247.1 in VNII.fasta\n",
      "Updating CP003830.1_CP091248.1 to CP091248.1_R in VNII.fasta\n",
      "Updating CP003824.1_CP091249.1 to CP091249.1 in VNII.fasta\n",
      "Updating CP003821.1_CP091250.1 to CP091250.1_R in VNII.fasta\n",
      "Updating CP003826.1_CP091251.1 to CP091251.1_R in VNII.fasta\n",
      "Updating CP003825.1_CP091252.1 to CP091252.1 in VNII.fasta\n",
      "Updating CP003827.1_CP091253.1 to CP091253.1 in VNII.fasta\n",
      "Updating CP003828.1_CP091254.1 to CP091254.1_R in VNII.fasta\n",
      "Updating CP003822.1_CP091255.1 to CP091255.1_R in VNII.fasta\n",
      "Updating CP003829.1_CP091256.1 to CP091256.1_R in VNII.fasta\n",
      "Updating CP003823.1_CP091257.1 to CP091257.1 in VNII.fasta\n",
      "Updating CP003833.2_CP091258.1 to CP091258.1 in VNII.fasta\n",
      "Updating CP003831.1_CP091259.1 to CP091259.1 in VNII.fasta\n",
      "Updating CP003832.1_CP091260.1 to CP091260.1 in VNII.fasta\n",
      "Updating CP003820.1_chr01 to chr01 in VNBI.fasta\n",
      "Updating CP003821.1_chr02 to chr02 in VNBI.fasta\n",
      "Updating CP003822.1_chr03 to chr03 in VNBI.fasta\n",
      "Updating CP003823.1_chr04 to chr04 in VNBI.fasta\n",
      "Updating CP003824.1_chr05 to chr05 in VNBI.fasta\n",
      "Updating CP003825.1_chr06 to chr06 in VNBI.fasta\n",
      "Updating CP003826.1_chr07 to chr07 in VNBI.fasta\n",
      "Updating CP003827.1_chr08 to chr08 in VNBI.fasta\n",
      "Updating CP003828.1_chr09 to chr09 in VNBI.fasta\n",
      "Updating CP003829.1_chr10 to chr10 in VNBI.fasta\n",
      "Updating CP003830.1_chr11 to chr11 in VNBI.fasta\n",
      "Updating CP003831.1_chr12 to chr12 in VNBI.fasta\n",
      "Updating CP003832.1_chr13 to chr13 in VNBI.fasta\n",
      "Updating CP003833.2_chr14 to chr14 in VNBI.fasta\n",
      "Updating CP003820.1_CP097938.1 to CP097938.1_R in VNBII.fasta\n",
      "Updating CP003821.1_CP097939.1 to CP097939.1 in VNBII.fasta\n",
      "Updating CP003822.1_CP097940.1 to CP097940.1 in VNBII.fasta\n",
      "Updating CP003823.1_CP097941.1 to CP097941.1 in VNBII.fasta\n",
      "Updating CP003824.1_CP097942.1 to CP097942.1 in VNBII.fasta\n",
      "Updating CP003825.1_CP097943.1 to CP097943.1 in VNBII.fasta\n",
      "Updating CP003826.1_CP097944.1 to CP097944.1_R in VNBII.fasta\n",
      "Updating CP003827.1_CP097945.1 to CP097945.1_R in VNBII.fasta\n",
      "Updating CP003828.1_CP097946.1 to CP097946.1 in VNBII.fasta\n",
      "Updating CP003829.1_CP097947.1 to CP097947.1_R in VNBII.fasta\n",
      "Updating CP003830.1_CP097948.1 to CP097948.1_R in VNBII.fasta\n",
      "Updating CP003831.1_CP097949.1 to CP097949.1_R in VNBII.fasta\n",
      "Updating CP003832.1_CP097950.1 to CP097950.1 in VNBII.fasta\n",
      "Updating CP003833.2_CP097951.1 to CP097951.1_R in VNBII.fasta\n"
     ]
    }
   ],
   "source": [
    "%%bash\n",
    "tail -n +2 Crypto_Desjardins/config/chromosome_alignments.csv | while read line\n",
    "do\n",
    "    current_accession=$(echo $line | cut -d',' -f5)\n",
    "    new_accession=$(echo $line | cut -d',' -f6)\n",
    "    lineage=$(echo $line | cut -d',' -f1)\n",
    "    echo \"Updating ${current_accession} to ${new_accession} in ${lineage}.fasta\"\n",
    "    sed -i \"s/${current_accession}/${new_accession}/g\" Crypto_Desjardins/data/references/${lineage}.fasta\n",
    "done"
   ]
  },
  {
   "cell_type": "code",
   "execution_count": 14,
   "id": "4624dd93",
   "metadata": {},
   "outputs": [],
   "source": [
    "chrom_names = chrom_align[chrom_align[\"lineage\"] == \"VNI\"][[\"RefID\"]].copy()\n",
    "chrom_names[\"chromosome\"] = list(range(1,15)) + [\"mitochondrion\"]"
   ]
  },
  {
   "cell_type": "code",
   "execution_count": 15,
   "id": "5f9691b9",
   "metadata": {},
   "outputs": [
    {
     "data": {
      "application/vnd.microsoft.datawrangler.viewer.v0+json": {
       "columns": [
        {
         "name": "index",
         "rawType": "int64",
         "type": "integer"
        },
        {
         "name": "RefID",
         "rawType": "object",
         "type": "string"
        },
        {
         "name": "chromosome",
         "rawType": "object",
         "type": "unknown"
        }
       ],
       "ref": "64383c6a-9fbe-4b2b-89f8-c776121e367e",
       "rows": [
        [
         "0",
         "CP003820.1",
         "1"
        ],
        [
         "1",
         "CP003821.1",
         "2"
        ],
        [
         "2",
         "CP003822.1",
         "3"
        ],
        [
         "3",
         "CP003823.1",
         "4"
        ],
        [
         "4",
         "CP003824.1",
         "5"
        ],
        [
         "5",
         "CP003825.1",
         "6"
        ],
        [
         "6",
         "CP003826.1",
         "7"
        ],
        [
         "7",
         "CP003827.1",
         "8"
        ],
        [
         "8",
         "CP003828.1",
         "9"
        ],
        [
         "9",
         "CP003829.1",
         "10"
        ],
        [
         "10",
         "CP003830.1",
         "11"
        ],
        [
         "11",
         "CP003831.1",
         "12"
        ],
        [
         "12",
         "CP003832.1",
         "13"
        ],
        [
         "13",
         "CP003833.2",
         "14"
        ],
        [
         "14",
         "CP003834.1",
         "mitochondrion"
        ]
       ],
       "shape": {
        "columns": 2,
        "rows": 15
       }
      },
      "text/html": [
       "<div>\n",
       "<style scoped>\n",
       "    .dataframe tbody tr th:only-of-type {\n",
       "        vertical-align: middle;\n",
       "    }\n",
       "\n",
       "    .dataframe tbody tr th {\n",
       "        vertical-align: top;\n",
       "    }\n",
       "\n",
       "    .dataframe thead th {\n",
       "        text-align: right;\n",
       "    }\n",
       "</style>\n",
       "<table border=\"1\" class=\"dataframe\">\n",
       "  <thead>\n",
       "    <tr style=\"text-align: right;\">\n",
       "      <th></th>\n",
       "      <th>RefID</th>\n",
       "      <th>chromosome</th>\n",
       "    </tr>\n",
       "  </thead>\n",
       "  <tbody>\n",
       "    <tr>\n",
       "      <th>0</th>\n",
       "      <td>CP003820.1</td>\n",
       "      <td>1</td>\n",
       "    </tr>\n",
       "    <tr>\n",
       "      <th>1</th>\n",
       "      <td>CP003821.1</td>\n",
       "      <td>2</td>\n",
       "    </tr>\n",
       "    <tr>\n",
       "      <th>2</th>\n",
       "      <td>CP003822.1</td>\n",
       "      <td>3</td>\n",
       "    </tr>\n",
       "    <tr>\n",
       "      <th>3</th>\n",
       "      <td>CP003823.1</td>\n",
       "      <td>4</td>\n",
       "    </tr>\n",
       "    <tr>\n",
       "      <th>4</th>\n",
       "      <td>CP003824.1</td>\n",
       "      <td>5</td>\n",
       "    </tr>\n",
       "    <tr>\n",
       "      <th>5</th>\n",
       "      <td>CP003825.1</td>\n",
       "      <td>6</td>\n",
       "    </tr>\n",
       "    <tr>\n",
       "      <th>6</th>\n",
       "      <td>CP003826.1</td>\n",
       "      <td>7</td>\n",
       "    </tr>\n",
       "    <tr>\n",
       "      <th>7</th>\n",
       "      <td>CP003827.1</td>\n",
       "      <td>8</td>\n",
       "    </tr>\n",
       "    <tr>\n",
       "      <th>8</th>\n",
       "      <td>CP003828.1</td>\n",
       "      <td>9</td>\n",
       "    </tr>\n",
       "    <tr>\n",
       "      <th>9</th>\n",
       "      <td>CP003829.1</td>\n",
       "      <td>10</td>\n",
       "    </tr>\n",
       "    <tr>\n",
       "      <th>10</th>\n",
       "      <td>CP003830.1</td>\n",
       "      <td>11</td>\n",
       "    </tr>\n",
       "    <tr>\n",
       "      <th>11</th>\n",
       "      <td>CP003831.1</td>\n",
       "      <td>12</td>\n",
       "    </tr>\n",
       "    <tr>\n",
       "      <th>12</th>\n",
       "      <td>CP003832.1</td>\n",
       "      <td>13</td>\n",
       "    </tr>\n",
       "    <tr>\n",
       "      <th>13</th>\n",
       "      <td>CP003833.2</td>\n",
       "      <td>14</td>\n",
       "    </tr>\n",
       "    <tr>\n",
       "      <th>14</th>\n",
       "      <td>CP003834.1</td>\n",
       "      <td>mitochondrion</td>\n",
       "    </tr>\n",
       "  </tbody>\n",
       "</table>\n",
       "</div>"
      ],
      "text/plain": [
       "         RefID     chromosome\n",
       "0   CP003820.1              1\n",
       "1   CP003821.1              2\n",
       "2   CP003822.1              3\n",
       "3   CP003823.1              4\n",
       "4   CP003824.1              5\n",
       "5   CP003825.1              6\n",
       "6   CP003826.1              7\n",
       "7   CP003827.1              8\n",
       "8   CP003828.1              9\n",
       "9   CP003829.1             10\n",
       "10  CP003830.1             11\n",
       "11  CP003831.1             12\n",
       "12  CP003832.1             13\n",
       "13  CP003833.2             14\n",
       "14  CP003834.1  mitochondrion"
      ]
     },
     "execution_count": 15,
     "metadata": {},
     "output_type": "execute_result"
    }
   ],
   "source": [
    "chrom_names"
   ]
  },
  {
   "cell_type": "code",
   "execution_count": null,
   "id": "50493ce7",
   "metadata": {},
   "outputs": [],
   "source": [
    "chrom_align = chrom_align.merge(chrom_names, on=\"RefID\", how=\"left\")\n"
   ]
  },
  {
   "cell_type": "code",
   "execution_count": null,
   "id": "81f4ff6f",
   "metadata": {},
   "outputs": [],
   "source": [
    "chromosomes = chrom_align[[\"lineage\", \"accession\", \"chromosome\"]].copy()\n",
    "chromosomes.sort_values(by=[\"lineage\", \"chromosome\"], inplace=True)\n",
    "chromosomes = chromosomes[chromosomes[\"chromosome\"]!= \"mitochondrion\"]\n",
    "chromosomes.to_csv(\"/FastData/czirion/WeavePop_Cneoformans/Crypto_Desjardins/config/chromosomes.csv\", index=False)"
   ]
  }
 ],
 "metadata": {
  "kernelspec": {
   "display_name": "python_env",
   "language": "python",
   "name": "python3"
  },
  "language_info": {
   "codemirror_mode": {
    "name": "ipython",
    "version": 3
   },
   "file_extension": ".py",
   "mimetype": "text/x-python",
   "name": "python",
   "nbconvert_exporter": "python",
   "pygments_lexer": "ipython3",
   "version": "3.13.5"
  }
 },
 "nbformat": 4,
 "nbformat_minor": 5
}
