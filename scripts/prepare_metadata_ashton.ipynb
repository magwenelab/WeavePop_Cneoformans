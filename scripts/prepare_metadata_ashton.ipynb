{
 "cells": [
  {
   "cell_type": "markdown",
   "metadata": {},
   "source": [
    "The `Ashton_Supplementary_Data_1.csv` file was downloaded from [here](https://static-content.springer.com/esm/art%3A10.1038%2Fs41467-019-10092-5/MediaObjects/41467_2019_10092_MOESM5_ESM.xlsx)  \n",
    "It was converted to csv, the first two lines were removed and the values in Sequencing ID where used to fill the ENA accession column where it was missing  \n",
    "The values in ENA accession of the Ashton Study were used to download the sequencing data with the downloading-tools workflow.  \n",
    "The `reads_tables.csv` file was created by the downloading-tools workflow.  \n",
    "The run ERR2624135 was not possible to download.  "
   ]
  },
  {
   "cell_type": "code",
   "execution_count": null,
   "metadata": {},
   "outputs": [],
   "source": [
    "import pandas as pd\n",
    "import os\n",
    "os.chdir(\"/FastData/czirion/WeavePop_Cneoformans/\")"
   ]
  },
  {
   "cell_type": "markdown",
   "metadata": {},
   "source": [
    "Input"
   ]
  },
  {
   "cell_type": "code",
   "execution_count": 21,
   "metadata": {},
   "outputs": [],
   "source": [
    "original_metadata_path = \"Crypto_Ashton/config/Ashton_Supplementary_Data_1.csv\"\n",
    "reads_table_path = \"Crypto_Ashton/config/reads_table.csv\""
   ]
  },
  {
   "cell_type": "markdown",
   "metadata": {},
   "source": [
    "Output"
   ]
  },
  {
   "cell_type": "code",
   "execution_count": 22,
   "metadata": {},
   "outputs": [],
   "source": [
    "full_metadata_path = \"Crypto_Ashton/config/metadata_all_ashton_and_vni_desj.csv\"\n",
    "vni_metadata_path = \"Crypto_Ashton/config/metadata_vni_ashton_and_vni_desj.csv\"\n",
    "non_vni_metadata_path = \"Crypto_Ashton/config/metadata_non_vni_ashton.csv\"\n",
    "vni_ashton_metadata_path = \"Crypto_Ashton/config/metadata.csv\" # The one to use in WeavePop\n",
    "non_vni_list_path = \"Crypto_Ashton/config/non_vni.txt\""
   ]
  },
  {
   "cell_type": "markdown",
   "metadata": {},
   "source": [
    "Read original tables"
   ]
  },
  {
   "cell_type": "code",
   "execution_count": 23,
   "metadata": {},
   "outputs": [],
   "source": [
    "original = pd.read_csv(original_metadata_path, header = 0)"
   ]
  },
  {
   "cell_type": "code",
   "execution_count": 24,
   "metadata": {},
   "outputs": [],
   "source": [
    "reads = pd.read_csv(reads_table_path, header = 0)\n",
    "reads = reads[['sample', 'run']]"
   ]
  },
  {
   "cell_type": "markdown",
   "metadata": {},
   "source": [
    "Join the metadata and the read accessions to have a sample name and get the strain name from the Sequencing ID column"
   ]
  },
  {
   "cell_type": "code",
   "execution_count": 25,
   "metadata": {},
   "outputs": [],
   "source": [
    "joined = pd.merge(original, reads, left_on = 'ENA accession', right_on = 'run', how = 'left')\n",
    "joined = joined.drop(columns = ['run'])\n",
    "joined = joined.rename(columns = {'Sequencing ID': 'strain', 'Isolation source': 'source', 'Sub-clade' : 'vni_subdivision', 'Country of origin': 'country_of_origin', 'ENA accession': 'sra_accession'})"
   ]
  },
  {
   "cell_type": "markdown",
   "metadata": {},
   "source": [
    "Assign lineage from the column `Species ID from mash analysis`"
   ]
  },
  {
   "cell_type": "code",
   "execution_count": 26,
   "metadata": {},
   "outputs": [],
   "source": [
    "joined.loc[joined['Species ID from mash anlaysis'] == 'Cryptococcus neoformans var. grubii H99', 'lineage'] = 'VNI'\n",
    "joined.loc[joined['Species ID from mash anlaysis'] == 'Cryptococcus neoformans var. grubii H99/Cryptococcus neoformans var. neoformans JEC21 hybrid', 'lineage'] = 'AD_hybrid'\n",
    "joined.loc[joined['Species ID from mash anlaysis'] == 'Cryptococcus gattii WM276', 'lineage'] = 'gattii'\n",
    "joined.loc[joined['vni_subdivision'] == 'VNII', 'lineage'] = 'VNII'\n",
    "joined.loc[joined['vni_subdivision'] == 'VNII', 'vni_subdivision'] = None"
   ]
  },
  {
   "cell_type": "markdown",
   "metadata": {},
   "source": [
    "Convert all columns to lowercase and replace spaces with underscores"
   ]
  },
  {
   "cell_type": "code",
   "execution_count": 27,
   "metadata": {},
   "outputs": [],
   "source": [
    "joined.columns = joined.columns.str.lower().str.replace(' ', '_', regex=True)"
   ]
  },
  {
   "cell_type": "markdown",
   "metadata": {},
   "source": [
    "Create column for VNIa subdivision"
   ]
  },
  {
   "cell_type": "code",
   "execution_count": 28,
   "metadata": {},
   "outputs": [],
   "source": [
    "joined.loc[joined[\"vni_subdivision\"].str.contains(\"VNIa\", na=False), \"vnia_subdivision\"] = joined[\"vni_subdivision\"]\n",
    "joined.loc[:, \"vni_subdivision\" ] = joined[\"vni_subdivision\"].str.split(\"-\").str[0]"
   ]
  },
  {
   "cell_type": "markdown",
   "metadata": {},
   "source": [
    "Put the columns `sample`, `strain`, `lineage` and `vni_subdivision` to the left of the rest and sort by vni_subdivision"
   ]
  },
  {
   "cell_type": "code",
   "execution_count": 29,
   "metadata": {},
   "outputs": [],
   "source": [
    "joined = joined[['sample', 'strain','lineage','source', 'vni_subdivision', 'vnia_subdivision'] + [col for col in joined.columns if col not in ['sample', 'strain','lineage','source','vni_subdivision', 'vnia_subdivision'] ]]\n",
    "joined = joined.sort_values('vni_subdivision')"
   ]
  },
  {
   "cell_type": "markdown",
   "metadata": {},
   "source": [
    "## Save multiple metadata tables with different subsets"
   ]
  },
  {
   "cell_type": "markdown",
   "metadata": {},
   "source": [
    "All samples in Ashton paper"
   ]
  },
  {
   "cell_type": "code",
   "execution_count": 30,
   "metadata": {},
   "outputs": [],
   "source": [
    "joined.to_csv(full_metadata_path, index = False)"
   ]
  },
  {
   "cell_type": "code",
   "execution_count": 31,
   "metadata": {},
   "outputs": [
    {
     "data": {
      "application/vnd.microsoft.datawrangler.viewer.v0+json": {
       "columns": [
        {
         "name": "index",
         "rawType": "int64",
         "type": "integer"
        },
        {
         "name": "study",
         "rawType": "object",
         "type": "string"
        },
        {
         "name": "lineage",
         "rawType": "object",
         "type": "string"
        },
        {
         "name": "counts",
         "rawType": "int64",
         "type": "integer"
        }
       ],
       "ref": "e5afb36f-b9af-483a-99a1-d38cc9646810",
       "rows": [
        [
         "0",
         "Ashton",
         "AD_hybrid",
         "5"
        ],
        [
         "1",
         "Ashton",
         "VNI",
         "678"
        ],
        [
         "2",
         "Ashton",
         "VNII",
         "4"
        ],
        [
         "3",
         "Ashton",
         "gattii",
         "12"
        ],
        [
         "4",
         "Desjardins",
         "VNI",
         "185"
        ]
       ],
       "shape": {
        "columns": 3,
        "rows": 5
       }
      },
      "text/html": [
       "<div>\n",
       "<style scoped>\n",
       "    .dataframe tbody tr th:only-of-type {\n",
       "        vertical-align: middle;\n",
       "    }\n",
       "\n",
       "    .dataframe tbody tr th {\n",
       "        vertical-align: top;\n",
       "    }\n",
       "\n",
       "    .dataframe thead th {\n",
       "        text-align: right;\n",
       "    }\n",
       "</style>\n",
       "<table border=\"1\" class=\"dataframe\">\n",
       "  <thead>\n",
       "    <tr style=\"text-align: right;\">\n",
       "      <th></th>\n",
       "      <th>study</th>\n",
       "      <th>lineage</th>\n",
       "      <th>counts</th>\n",
       "    </tr>\n",
       "  </thead>\n",
       "  <tbody>\n",
       "    <tr>\n",
       "      <th>0</th>\n",
       "      <td>Ashton</td>\n",
       "      <td>AD_hybrid</td>\n",
       "      <td>5</td>\n",
       "    </tr>\n",
       "    <tr>\n",
       "      <th>1</th>\n",
       "      <td>Ashton</td>\n",
       "      <td>VNI</td>\n",
       "      <td>678</td>\n",
       "    </tr>\n",
       "    <tr>\n",
       "      <th>2</th>\n",
       "      <td>Ashton</td>\n",
       "      <td>VNII</td>\n",
       "      <td>4</td>\n",
       "    </tr>\n",
       "    <tr>\n",
       "      <th>3</th>\n",
       "      <td>Ashton</td>\n",
       "      <td>gattii</td>\n",
       "      <td>12</td>\n",
       "    </tr>\n",
       "    <tr>\n",
       "      <th>4</th>\n",
       "      <td>Desjardins</td>\n",
       "      <td>VNI</td>\n",
       "      <td>185</td>\n",
       "    </tr>\n",
       "  </tbody>\n",
       "</table>\n",
       "</div>"
      ],
      "text/plain": [
       "        study    lineage  counts\n",
       "0      Ashton  AD_hybrid       5\n",
       "1      Ashton        VNI     678\n",
       "2      Ashton       VNII       4\n",
       "3      Ashton     gattii      12\n",
       "4  Desjardins        VNI     185"
      ]
     },
     "execution_count": 31,
     "metadata": {},
     "output_type": "execute_result"
    }
   ],
   "source": [
    "joined.groupby(['study', 'lineage'], observed=True).size().reset_index(name='counts')\n"
   ]
  },
  {
   "cell_type": "markdown",
   "metadata": {},
   "source": [
    "All VNI samples in Ashton paper, except ERR2624135. Includes Desjardins VNI"
   ]
  },
  {
   "cell_type": "code",
   "execution_count": 32,
   "metadata": {},
   "outputs": [],
   "source": [
    "VNI = joined[joined['lineage'] == 'VNI']\n",
    "VNI = VNI[VNI['sra_accession'] != \"ERR2624135\"]\n",
    "VNI.to_csv(vni_metadata_path, index = False)"
   ]
  },
  {
   "cell_type": "code",
   "execution_count": 33,
   "metadata": {},
   "outputs": [
    {
     "data": {
      "application/vnd.microsoft.datawrangler.viewer.v0+json": {
       "columns": [
        {
         "name": "index",
         "rawType": "int64",
         "type": "integer"
        },
        {
         "name": "study",
         "rawType": "object",
         "type": "string"
        },
        {
         "name": "lineage",
         "rawType": "object",
         "type": "string"
        },
        {
         "name": "counts",
         "rawType": "int64",
         "type": "integer"
        }
       ],
       "ref": "9e767f05-9e67-4ae3-95d7-c0473cbd2216",
       "rows": [
        [
         "0",
         "Ashton",
         "VNI",
         "677"
        ],
        [
         "1",
         "Desjardins",
         "VNI",
         "185"
        ]
       ],
       "shape": {
        "columns": 3,
        "rows": 2
       }
      },
      "text/html": [
       "<div>\n",
       "<style scoped>\n",
       "    .dataframe tbody tr th:only-of-type {\n",
       "        vertical-align: middle;\n",
       "    }\n",
       "\n",
       "    .dataframe tbody tr th {\n",
       "        vertical-align: top;\n",
       "    }\n",
       "\n",
       "    .dataframe thead th {\n",
       "        text-align: right;\n",
       "    }\n",
       "</style>\n",
       "<table border=\"1\" class=\"dataframe\">\n",
       "  <thead>\n",
       "    <tr style=\"text-align: right;\">\n",
       "      <th></th>\n",
       "      <th>study</th>\n",
       "      <th>lineage</th>\n",
       "      <th>counts</th>\n",
       "    </tr>\n",
       "  </thead>\n",
       "  <tbody>\n",
       "    <tr>\n",
       "      <th>0</th>\n",
       "      <td>Ashton</td>\n",
       "      <td>VNI</td>\n",
       "      <td>677</td>\n",
       "    </tr>\n",
       "    <tr>\n",
       "      <th>1</th>\n",
       "      <td>Desjardins</td>\n",
       "      <td>VNI</td>\n",
       "      <td>185</td>\n",
       "    </tr>\n",
       "  </tbody>\n",
       "</table>\n",
       "</div>"
      ],
      "text/plain": [
       "        study lineage  counts\n",
       "0      Ashton     VNI     677\n",
       "1  Desjardins     VNI     185"
      ]
     },
     "execution_count": 33,
     "metadata": {},
     "output_type": "execute_result"
    }
   ],
   "source": [
    "VNI.groupby(['study', 'lineage'], observed=True).size().reset_index(name='counts')\n"
   ]
  },
  {
   "cell_type": "markdown",
   "metadata": {},
   "source": [
    "VNI Ashton samples (without Desjardins VNI and without ERR2624135)"
   ]
  },
  {
   "cell_type": "code",
   "execution_count": 34,
   "metadata": {},
   "outputs": [],
   "source": [
    "VNI_ashton = VNI[VNI['study'] == 'Ashton']\n",
    "VNI_ashton.to_csv(vni_ashton_metadata_path, index = False)"
   ]
  },
  {
   "cell_type": "code",
   "execution_count": 35,
   "metadata": {},
   "outputs": [
    {
     "data": {
      "application/vnd.microsoft.datawrangler.viewer.v0+json": {
       "columns": [
        {
         "name": "index",
         "rawType": "int64",
         "type": "integer"
        },
        {
         "name": "vni_subdivision",
         "rawType": "object",
         "type": "string"
        },
        {
         "name": "counts",
         "rawType": "int64",
         "type": "integer"
        }
       ],
       "ref": "5f4c1c6c-5c53-4a9a-945a-932582ae216b",
       "rows": [
        [
         "0",
         "VNIa",
         "667"
        ],
        [
         "1",
         "VNIb",
         "10"
        ]
       ],
       "shape": {
        "columns": 2,
        "rows": 2
       }
      },
      "text/html": [
       "<div>\n",
       "<style scoped>\n",
       "    .dataframe tbody tr th:only-of-type {\n",
       "        vertical-align: middle;\n",
       "    }\n",
       "\n",
       "    .dataframe tbody tr th {\n",
       "        vertical-align: top;\n",
       "    }\n",
       "\n",
       "    .dataframe thead th {\n",
       "        text-align: right;\n",
       "    }\n",
       "</style>\n",
       "<table border=\"1\" class=\"dataframe\">\n",
       "  <thead>\n",
       "    <tr style=\"text-align: right;\">\n",
       "      <th></th>\n",
       "      <th>vni_subdivision</th>\n",
       "      <th>counts</th>\n",
       "    </tr>\n",
       "  </thead>\n",
       "  <tbody>\n",
       "    <tr>\n",
       "      <th>0</th>\n",
       "      <td>VNIa</td>\n",
       "      <td>667</td>\n",
       "    </tr>\n",
       "    <tr>\n",
       "      <th>1</th>\n",
       "      <td>VNIb</td>\n",
       "      <td>10</td>\n",
       "    </tr>\n",
       "  </tbody>\n",
       "</table>\n",
       "</div>"
      ],
      "text/plain": [
       "  vni_subdivision  counts\n",
       "0            VNIa     667\n",
       "1            VNIb      10"
      ]
     },
     "execution_count": 35,
     "metadata": {},
     "output_type": "execute_result"
    }
   ],
   "source": [
    "VNI_ashton.groupby(['vni_subdivision'], observed=True).size().reset_index(name='counts')\n"
   ]
  },
  {
   "cell_type": "markdown",
   "metadata": {},
   "source": [
    "Non VNI samples"
   ]
  },
  {
   "cell_type": "code",
   "execution_count": 36,
   "metadata": {},
   "outputs": [],
   "source": [
    "non_VNI = joined[joined['lineage'] != 'VNI']\n",
    "non_VNI = non_VNI.sort_values('lineage')\n",
    "non_VNI.to_csv(non_vni_metadata_path, index = False)"
   ]
  },
  {
   "cell_type": "code",
   "execution_count": 37,
   "metadata": {},
   "outputs": [
    {
     "data": {
      "application/vnd.microsoft.datawrangler.viewer.v0+json": {
       "columns": [
        {
         "name": "index",
         "rawType": "int64",
         "type": "integer"
        },
        {
         "name": "lineage",
         "rawType": "object",
         "type": "string"
        },
        {
         "name": "counts",
         "rawType": "int64",
         "type": "integer"
        }
       ],
       "ref": "08d8ed6a-f760-4213-bc53-7def523273c1",
       "rows": [
        [
         "0",
         "AD_hybrid",
         "5"
        ],
        [
         "1",
         "VNII",
         "4"
        ],
        [
         "2",
         "gattii",
         "12"
        ]
       ],
       "shape": {
        "columns": 2,
        "rows": 3
       }
      },
      "text/html": [
       "<div>\n",
       "<style scoped>\n",
       "    .dataframe tbody tr th:only-of-type {\n",
       "        vertical-align: middle;\n",
       "    }\n",
       "\n",
       "    .dataframe tbody tr th {\n",
       "        vertical-align: top;\n",
       "    }\n",
       "\n",
       "    .dataframe thead th {\n",
       "        text-align: right;\n",
       "    }\n",
       "</style>\n",
       "<table border=\"1\" class=\"dataframe\">\n",
       "  <thead>\n",
       "    <tr style=\"text-align: right;\">\n",
       "      <th></th>\n",
       "      <th>lineage</th>\n",
       "      <th>counts</th>\n",
       "    </tr>\n",
       "  </thead>\n",
       "  <tbody>\n",
       "    <tr>\n",
       "      <th>0</th>\n",
       "      <td>AD_hybrid</td>\n",
       "      <td>5</td>\n",
       "    </tr>\n",
       "    <tr>\n",
       "      <th>1</th>\n",
       "      <td>VNII</td>\n",
       "      <td>4</td>\n",
       "    </tr>\n",
       "    <tr>\n",
       "      <th>2</th>\n",
       "      <td>gattii</td>\n",
       "      <td>12</td>\n",
       "    </tr>\n",
       "  </tbody>\n",
       "</table>\n",
       "</div>"
      ],
      "text/plain": [
       "     lineage  counts\n",
       "0  AD_hybrid       5\n",
       "1       VNII       4\n",
       "2     gattii      12"
      ]
     },
     "execution_count": 37,
     "metadata": {},
     "output_type": "execute_result"
    }
   ],
   "source": [
    "non_VNI.groupby(['lineage'], observed=True).size().reset_index(name='counts')"
   ]
  },
  {
   "cell_type": "markdown",
   "metadata": {},
   "source": [
    "Print list of non VNI samples"
   ]
  },
  {
   "cell_type": "code",
   "execution_count": 38,
   "metadata": {},
   "outputs": [],
   "source": [
    "non_VNI['sample'].to_csv(non_vni_list_path, index = False, header = False)"
   ]
  }
 ],
 "metadata": {
  "kernelspec": {
   "display_name": "widgets_2",
   "language": "python",
   "name": "python3"
  },
  "language_info": {
   "codemirror_mode": {
    "name": "ipython",
    "version": 3
   },
   "file_extension": ".py",
   "mimetype": "text/x-python",
   "name": "python",
   "nbconvert_exporter": "python",
   "pygments_lexer": "ipython3",
   "version": "3.12.3"
  }
 },
 "nbformat": 4,
 "nbformat_minor": 2
}
